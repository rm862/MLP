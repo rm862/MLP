{
  "nbformat": 4,
  "nbformat_minor": 0,
  "metadata": {
    "colab": {
      "provenance": [],
      "machine_shape": "hm",
      "gpuType": "A100"
    },
    "kernelspec": {
      "name": "python3",
      "display_name": "Python 3"
    },
    "language_info": {
      "name": "python"
    },
    "accelerator": "GPU"
  },
  "cells": [
    {
      "cell_type": "markdown",
      "source": [
        "MACHINE LEARNING PRACTICAL: COURSEWORK 4"
      ],
      "metadata": {
        "id": "1C6h5U2lyBOb"
      }
    },
    {
      "cell_type": "code",
      "source": [
        "#####################################################################\n",
        "# 1) Imports & Basic Environment Checks\n",
        "#####################################################################\n",
        "print(\"GPU Info:\")\n",
        "gpu_info = !nvidia-smi\n",
        "print(\"\\n\".join(gpu_info))"
      ],
      "metadata": {
        "colab": {
          "base_uri": "https://localhost:8080/"
        },
        "id": "oA1wOMT_x9en",
        "outputId": "69e4bf92-6c60-4cb0-f57d-8bb958ea030d"
      },
      "execution_count": 1,
      "outputs": [
        {
          "output_type": "stream",
          "name": "stdout",
          "text": [
            "GPU Info:\n",
            "Thu Mar 27 22:45:40 2025       \n",
            "+-----------------------------------------------------------------------------------------+\n",
            "| NVIDIA-SMI 550.54.15              Driver Version: 550.54.15      CUDA Version: 12.4     |\n",
            "|-----------------------------------------+------------------------+----------------------+\n",
            "| GPU  Name                 Persistence-M | Bus-Id          Disp.A | Volatile Uncorr. ECC |\n",
            "| Fan  Temp   Perf          Pwr:Usage/Cap |           Memory-Usage | GPU-Util  Compute M. |\n",
            "|                                         |                        |               MIG M. |\n",
            "|=========================================+========================+======================|\n",
            "|   0  NVIDIA A100-SXM4-40GB          Off |   00000000:00:04.0 Off |                    0 |\n",
            "| N/A   31C    P0             45W /  400W |       0MiB /  40960MiB |      0%      Default |\n",
            "|                                         |                        |             Disabled |\n",
            "+-----------------------------------------+------------------------+----------------------+\n",
            "                                                                                         \n",
            "+-----------------------------------------------------------------------------------------+\n",
            "| Processes:                                                                              |\n",
            "|  GPU   GI   CI        PID   Type   Process name                              GPU Memory |\n",
            "|        ID   ID                                                               Usage      |\n",
            "|=========================================================================================|\n",
            "|  No running processes found                                                             |\n",
            "+-----------------------------------------------------------------------------------------+\n"
          ]
        }
      ]
    },
    {
      "cell_type": "code",
      "source": [
        "#####################################################################\n",
        "# 2) Mount Google Drive\n",
        "#####################################################################\n",
        "from google.colab import drive\n",
        "drive.mount('/content/drive')"
      ],
      "metadata": {
        "colab": {
          "base_uri": "https://localhost:8080/"
        },
        "id": "6oRiRJfDGROp",
        "outputId": "1d8597e8-3826-43ac-b200-acffdcd8da32"
      },
      "execution_count": null,
      "outputs": [
        {
          "output_type": "stream",
          "name": "stdout",
          "text": [
            "Drive already mounted at /content/drive; to attempt to forcibly remount, call drive.mount(\"/content/drive\", force_remount=True).\n"
          ]
        }
      ]
    },
    {
      "cell_type": "code",
      "source": [
        "#####################################################################\n",
        "# 0) Installs libraries (not already installed in Colab)\n",
        "#####################################################################\n",
        "!pip install SimpleITK\n",
        "!pip install torchio\n",
        "!pip install segmentation-models-pytorch"
      ],
      "metadata": {
        "colab": {
          "base_uri": "https://localhost:8080/"
        },
        "id": "Zk9xbgzwGRTS",
        "outputId": "8644b10f-2303-48db-cea2-f1b394e2bb17"
      },
      "execution_count": null,
      "outputs": [
        {
          "output_type": "stream",
          "name": "stdout",
          "text": [
            "Requirement already satisfied: SimpleITK in /usr/local/lib/python3.11/dist-packages (2.4.1)\n",
            "Requirement already satisfied: torchio in /usr/local/lib/python3.11/dist-packages (0.20.5)\n",
            "Requirement already satisfied: deprecated>=1.2 in /usr/local/lib/python3.11/dist-packages (from torchio) (1.2.18)\n",
            "Requirement already satisfied: humanize>=0.1 in /usr/local/lib/python3.11/dist-packages (from torchio) (4.12.1)\n",
            "Requirement already satisfied: nibabel>=3 in /usr/local/lib/python3.11/dist-packages (from torchio) (5.3.2)\n",
            "Requirement already satisfied: numpy>=1.20 in /usr/local/lib/python3.11/dist-packages (from torchio) (2.0.2)\n",
            "Requirement already satisfied: packaging>=20 in /usr/local/lib/python3.11/dist-packages (from torchio) (24.2)\n",
            "Requirement already satisfied: rich>=10 in /usr/local/lib/python3.11/dist-packages (from torchio) (13.9.4)\n",
            "Requirement already satisfied: scipy>=1.7 in /usr/local/lib/python3.11/dist-packages (from torchio) (1.14.1)\n",
            "Requirement already satisfied: simpleitk!=2.0.*,!=2.1.1.1,>=1.3 in /usr/local/lib/python3.11/dist-packages (from torchio) (2.4.1)\n",
            "Requirement already satisfied: torch>=1.9 in /usr/local/lib/python3.11/dist-packages (from torchio) (2.6.0+cu124)\n",
            "Requirement already satisfied: tqdm>=4.40 in /usr/local/lib/python3.11/dist-packages (from torchio) (4.67.1)\n",
            "Requirement already satisfied: typer>=0.1 in /usr/local/lib/python3.11/dist-packages (from torchio) (0.15.2)\n",
            "Requirement already satisfied: wrapt<2,>=1.10 in /usr/local/lib/python3.11/dist-packages (from deprecated>=1.2->torchio) (1.17.2)\n",
            "Requirement already satisfied: importlib-resources>=5.12 in /usr/local/lib/python3.11/dist-packages (from nibabel>=3->torchio) (6.5.2)\n",
            "Requirement already satisfied: typing-extensions>=4.6 in /usr/local/lib/python3.11/dist-packages (from nibabel>=3->torchio) (4.12.2)\n",
            "Requirement already satisfied: markdown-it-py>=2.2.0 in /usr/local/lib/python3.11/dist-packages (from rich>=10->torchio) (3.0.0)\n",
            "Requirement already satisfied: pygments<3.0.0,>=2.13.0 in /usr/local/lib/python3.11/dist-packages (from rich>=10->torchio) (2.18.0)\n",
            "Requirement already satisfied: filelock in /usr/local/lib/python3.11/dist-packages (from torch>=1.9->torchio) (3.18.0)\n",
            "Requirement already satisfied: networkx in /usr/local/lib/python3.11/dist-packages (from torch>=1.9->torchio) (3.4.2)\n",
            "Requirement already satisfied: jinja2 in /usr/local/lib/python3.11/dist-packages (from torch>=1.9->torchio) (3.1.6)\n",
            "Requirement already satisfied: fsspec in /usr/local/lib/python3.11/dist-packages (from torch>=1.9->torchio) (2025.3.0)\n",
            "Requirement already satisfied: nvidia-cuda-nvrtc-cu12==12.4.127 in /usr/local/lib/python3.11/dist-packages (from torch>=1.9->torchio) (12.4.127)\n",
            "Requirement already satisfied: nvidia-cuda-runtime-cu12==12.4.127 in /usr/local/lib/python3.11/dist-packages (from torch>=1.9->torchio) (12.4.127)\n",
            "Requirement already satisfied: nvidia-cuda-cupti-cu12==12.4.127 in /usr/local/lib/python3.11/dist-packages (from torch>=1.9->torchio) (12.4.127)\n",
            "Requirement already satisfied: nvidia-cudnn-cu12==9.1.0.70 in /usr/local/lib/python3.11/dist-packages (from torch>=1.9->torchio) (9.1.0.70)\n",
            "Requirement already satisfied: nvidia-cublas-cu12==12.4.5.8 in /usr/local/lib/python3.11/dist-packages (from torch>=1.9->torchio) (12.4.5.8)\n",
            "Requirement already satisfied: nvidia-cufft-cu12==11.2.1.3 in /usr/local/lib/python3.11/dist-packages (from torch>=1.9->torchio) (11.2.1.3)\n",
            "Requirement already satisfied: nvidia-curand-cu12==10.3.5.147 in /usr/local/lib/python3.11/dist-packages (from torch>=1.9->torchio) (10.3.5.147)\n",
            "Requirement already satisfied: nvidia-cusolver-cu12==11.6.1.9 in /usr/local/lib/python3.11/dist-packages (from torch>=1.9->torchio) (11.6.1.9)\n",
            "Requirement already satisfied: nvidia-cusparse-cu12==12.3.1.170 in /usr/local/lib/python3.11/dist-packages (from torch>=1.9->torchio) (12.3.1.170)\n",
            "Requirement already satisfied: nvidia-cusparselt-cu12==0.6.2 in /usr/local/lib/python3.11/dist-packages (from torch>=1.9->torchio) (0.6.2)\n",
            "Requirement already satisfied: nvidia-nccl-cu12==2.21.5 in /usr/local/lib/python3.11/dist-packages (from torch>=1.9->torchio) (2.21.5)\n",
            "Requirement already satisfied: nvidia-nvtx-cu12==12.4.127 in /usr/local/lib/python3.11/dist-packages (from torch>=1.9->torchio) (12.4.127)\n",
            "Requirement already satisfied: nvidia-nvjitlink-cu12==12.4.127 in /usr/local/lib/python3.11/dist-packages (from torch>=1.9->torchio) (12.4.127)\n",
            "Requirement already satisfied: triton==3.2.0 in /usr/local/lib/python3.11/dist-packages (from torch>=1.9->torchio) (3.2.0)\n",
            "Requirement already satisfied: sympy==1.13.1 in /usr/local/lib/python3.11/dist-packages (from torch>=1.9->torchio) (1.13.1)\n",
            "Requirement already satisfied: mpmath<1.4,>=1.1.0 in /usr/local/lib/python3.11/dist-packages (from sympy==1.13.1->torch>=1.9->torchio) (1.3.0)\n",
            "Requirement already satisfied: click>=8.0.0 in /usr/local/lib/python3.11/dist-packages (from typer>=0.1->torchio) (8.1.8)\n",
            "Requirement already satisfied: shellingham>=1.3.0 in /usr/local/lib/python3.11/dist-packages (from typer>=0.1->torchio) (1.5.4)\n",
            "Requirement already satisfied: mdurl~=0.1 in /usr/local/lib/python3.11/dist-packages (from markdown-it-py>=2.2.0->rich>=10->torchio) (0.1.2)\n",
            "Requirement already satisfied: MarkupSafe>=2.0 in /usr/local/lib/python3.11/dist-packages (from jinja2->torch>=1.9->torchio) (3.0.2)\n",
            "Requirement already satisfied: segmentation-models-pytorch in /usr/local/lib/python3.11/dist-packages (0.4.0)\n",
            "Requirement already satisfied: efficientnet-pytorch>=0.6.1 in /usr/local/lib/python3.11/dist-packages (from segmentation-models-pytorch) (0.7.1)\n",
            "Requirement already satisfied: huggingface-hub>=0.24 in /usr/local/lib/python3.11/dist-packages (from segmentation-models-pytorch) (0.29.3)\n",
            "Requirement already satisfied: numpy>=1.19.3 in /usr/local/lib/python3.11/dist-packages (from segmentation-models-pytorch) (2.0.2)\n",
            "Requirement already satisfied: pillow>=8 in /usr/local/lib/python3.11/dist-packages (from segmentation-models-pytorch) (11.1.0)\n",
            "Requirement already satisfied: pretrainedmodels>=0.7.1 in /usr/local/lib/python3.11/dist-packages (from segmentation-models-pytorch) (0.7.4)\n",
            "Requirement already satisfied: six>=1.5 in /usr/local/lib/python3.11/dist-packages (from segmentation-models-pytorch) (1.17.0)\n",
            "Requirement already satisfied: timm>=0.9 in /usr/local/lib/python3.11/dist-packages (from segmentation-models-pytorch) (1.0.15)\n",
            "Requirement already satisfied: torch>=1.8 in /usr/local/lib/python3.11/dist-packages (from segmentation-models-pytorch) (2.6.0+cu124)\n",
            "Requirement already satisfied: torchvision>=0.9 in /usr/local/lib/python3.11/dist-packages (from segmentation-models-pytorch) (0.21.0+cu124)\n",
            "Requirement already satisfied: tqdm>=4.42.1 in /usr/local/lib/python3.11/dist-packages (from segmentation-models-pytorch) (4.67.1)\n",
            "Requirement already satisfied: filelock in /usr/local/lib/python3.11/dist-packages (from huggingface-hub>=0.24->segmentation-models-pytorch) (3.18.0)\n",
            "Requirement already satisfied: fsspec>=2023.5.0 in /usr/local/lib/python3.11/dist-packages (from huggingface-hub>=0.24->segmentation-models-pytorch) (2025.3.0)\n",
            "Requirement already satisfied: packaging>=20.9 in /usr/local/lib/python3.11/dist-packages (from huggingface-hub>=0.24->segmentation-models-pytorch) (24.2)\n",
            "Requirement already satisfied: pyyaml>=5.1 in /usr/local/lib/python3.11/dist-packages (from huggingface-hub>=0.24->segmentation-models-pytorch) (6.0.2)\n",
            "Requirement already satisfied: requests in /usr/local/lib/python3.11/dist-packages (from huggingface-hub>=0.24->segmentation-models-pytorch) (2.32.3)\n",
            "Requirement already satisfied: typing-extensions>=3.7.4.3 in /usr/local/lib/python3.11/dist-packages (from huggingface-hub>=0.24->segmentation-models-pytorch) (4.12.2)\n",
            "Requirement already satisfied: munch in /usr/local/lib/python3.11/dist-packages (from pretrainedmodels>=0.7.1->segmentation-models-pytorch) (4.0.0)\n",
            "Requirement already satisfied: safetensors in /usr/local/lib/python3.11/dist-packages (from timm>=0.9->segmentation-models-pytorch) (0.5.3)\n",
            "Requirement already satisfied: networkx in /usr/local/lib/python3.11/dist-packages (from torch>=1.8->segmentation-models-pytorch) (3.4.2)\n",
            "Requirement already satisfied: jinja2 in /usr/local/lib/python3.11/dist-packages (from torch>=1.8->segmentation-models-pytorch) (3.1.6)\n",
            "Requirement already satisfied: nvidia-cuda-nvrtc-cu12==12.4.127 in /usr/local/lib/python3.11/dist-packages (from torch>=1.8->segmentation-models-pytorch) (12.4.127)\n",
            "Requirement already satisfied: nvidia-cuda-runtime-cu12==12.4.127 in /usr/local/lib/python3.11/dist-packages (from torch>=1.8->segmentation-models-pytorch) (12.4.127)\n",
            "Requirement already satisfied: nvidia-cuda-cupti-cu12==12.4.127 in /usr/local/lib/python3.11/dist-packages (from torch>=1.8->segmentation-models-pytorch) (12.4.127)\n",
            "Requirement already satisfied: nvidia-cudnn-cu12==9.1.0.70 in /usr/local/lib/python3.11/dist-packages (from torch>=1.8->segmentation-models-pytorch) (9.1.0.70)\n",
            "Requirement already satisfied: nvidia-cublas-cu12==12.4.5.8 in /usr/local/lib/python3.11/dist-packages (from torch>=1.8->segmentation-models-pytorch) (12.4.5.8)\n",
            "Requirement already satisfied: nvidia-cufft-cu12==11.2.1.3 in /usr/local/lib/python3.11/dist-packages (from torch>=1.8->segmentation-models-pytorch) (11.2.1.3)\n",
            "Requirement already satisfied: nvidia-curand-cu12==10.3.5.147 in /usr/local/lib/python3.11/dist-packages (from torch>=1.8->segmentation-models-pytorch) (10.3.5.147)\n",
            "Requirement already satisfied: nvidia-cusolver-cu12==11.6.1.9 in /usr/local/lib/python3.11/dist-packages (from torch>=1.8->segmentation-models-pytorch) (11.6.1.9)\n",
            "Requirement already satisfied: nvidia-cusparse-cu12==12.3.1.170 in /usr/local/lib/python3.11/dist-packages (from torch>=1.8->segmentation-models-pytorch) (12.3.1.170)\n",
            "Requirement already satisfied: nvidia-cusparselt-cu12==0.6.2 in /usr/local/lib/python3.11/dist-packages (from torch>=1.8->segmentation-models-pytorch) (0.6.2)\n",
            "Requirement already satisfied: nvidia-nccl-cu12==2.21.5 in /usr/local/lib/python3.11/dist-packages (from torch>=1.8->segmentation-models-pytorch) (2.21.5)\n",
            "Requirement already satisfied: nvidia-nvtx-cu12==12.4.127 in /usr/local/lib/python3.11/dist-packages (from torch>=1.8->segmentation-models-pytorch) (12.4.127)\n",
            "Requirement already satisfied: nvidia-nvjitlink-cu12==12.4.127 in /usr/local/lib/python3.11/dist-packages (from torch>=1.8->segmentation-models-pytorch) (12.4.127)\n",
            "Requirement already satisfied: triton==3.2.0 in /usr/local/lib/python3.11/dist-packages (from torch>=1.8->segmentation-models-pytorch) (3.2.0)\n",
            "Requirement already satisfied: sympy==1.13.1 in /usr/local/lib/python3.11/dist-packages (from torch>=1.8->segmentation-models-pytorch) (1.13.1)\n",
            "Requirement already satisfied: mpmath<1.4,>=1.1.0 in /usr/local/lib/python3.11/dist-packages (from sympy==1.13.1->torch>=1.8->segmentation-models-pytorch) (1.3.0)\n",
            "Requirement already satisfied: MarkupSafe>=2.0 in /usr/local/lib/python3.11/dist-packages (from jinja2->torch>=1.8->segmentation-models-pytorch) (3.0.2)\n",
            "Requirement already satisfied: charset-normalizer<4,>=2 in /usr/local/lib/python3.11/dist-packages (from requests->huggingface-hub>=0.24->segmentation-models-pytorch) (3.4.1)\n",
            "Requirement already satisfied: idna<4,>=2.5 in /usr/local/lib/python3.11/dist-packages (from requests->huggingface-hub>=0.24->segmentation-models-pytorch) (3.10)\n",
            "Requirement already satisfied: urllib3<3,>=1.21.1 in /usr/local/lib/python3.11/dist-packages (from requests->huggingface-hub>=0.24->segmentation-models-pytorch) (2.3.0)\n",
            "Requirement already satisfied: certifi>=2017.4.17 in /usr/local/lib/python3.11/dist-packages (from requests->huggingface-hub>=0.24->segmentation-models-pytorch) (2025.1.31)\n"
          ]
        }
      ]
    },
    {
      "cell_type": "code",
      "source": [
        "# ==================== Imports ====================\n",
        "import os\n",
        "import random\n",
        "import tarfile\n",
        "import numpy as np\n",
        "import cv2\n",
        "import torch\n",
        "import torch.optim as optim\n",
        "from torch.optim.lr_scheduler import OneCycleLR\n",
        "import matplotlib.pyplot as plt\n",
        "import SimpleITK as sitk\n",
        "from torch.utils.data import Dataset, DataLoader\n",
        "from tqdm import tqdm\n",
        "import segmentation_models_pytorch as smp\n",
        "from sklearn.model_selection import KFold\n",
        "import albumentations as A\n",
        "from albumentations.pytorch import ToTensorV2\n",
        "import pandas as pd\n",
        "import shutil\n",
        "import SimpleITK as sitk\n",
        "import random\n",
        "import torchio as tio\n",
        "from psutil import virtual_memory"
      ],
      "metadata": {
        "id": "4WoU1UZVGRVl"
      },
      "execution_count": null,
      "outputs": []
    },
    {
      "cell_type": "code",
      "source": [
        "#####################################################################\n",
        "# 3) Configuration Toggles & Parameters\n",
        "#####################################################################\n",
        "TARGET_SPACING = (1.0, 1.0, 1.0)  # Adjust if heavy interpolation is undesirable\n",
        "WINDOW_INTENSITIES = True        # Toggle to clamp CT intensities to [HU_LOW, HU_HIGH]\n",
        "HU_LOW, HU_HIGH = -100, 400      # Example window for abdominal CT\n",
        "DO_LABEL_SWAP = False            # Set True if you really need to swap label IDs\n",
        "SWAP_MAP = {1: 2, 2: 1}          # e.g. 1 ↔ 2\n",
        "DEBUG_PRINT = True               # Print metadata info for debugging\n",
        "\n",
        "\n",
        "raw_tar_path = \"/content/drive/MyDrive/Task08_HepaticVessel.tar\"\n",
        "extraction_dir = \"Task08_HepaticVessel\"\n"
      ],
      "metadata": {
        "id": "PBIkwHUkGRYE"
      },
      "execution_count": null,
      "outputs": []
    },
    {
      "cell_type": "code",
      "source": [
        "#####################################################################\n",
        "# 4) Helpful Print/Debug Functions\n",
        "#####################################################################\n",
        "def print_image_info(image, title=\"\"):\n",
        "    \"\"\" Print metadata (spacing, origin, direction) for debugging. \"\"\"\n",
        "    if not DEBUG_PRINT:\n",
        "        return\n",
        "    spacing = image.GetSpacing()\n",
        "    origin = image.GetOrigin()\n",
        "    direction = image.GetDirection()\n",
        "    size = image.GetSize()\n",
        "    print(f\"\\n--- {title} ---\")\n",
        "    print(f\"Size (xyz):    {size}\")\n",
        "    print(f\"Spacing (xyz): {spacing}\")\n",
        "    print(f\"Origin (xyz):  {origin}\")\n",
        "    print(f\"Direction:     {direction}\")"
      ],
      "metadata": {
        "id": "dGZhjpqAG05q"
      },
      "execution_count": null,
      "outputs": []
    },
    {
      "cell_type": "code",
      "source": [
        "#####################################################################\n",
        "# 5) Preprocessing Functions\n",
        "#####################################################################\n",
        "def standardize_orientation(image):\n",
        "    \"\"\"Convert to RAS orientation.\"\"\"\n",
        "    return sitk.DICOMOrient(image, 'RAS')\n",
        "\n",
        "def window_intensity(image, low=HU_LOW, high=HU_HIGH):\n",
        "    \"\"\"Clamp intensities to [low, high].\"\"\"\n",
        "    array = sitk.GetArrayFromImage(image).astype(np.float32)\n",
        "    array = np.clip(array, low, high)\n",
        "    out_img = sitk.GetImageFromArray(array)\n",
        "    out_img.CopyInformation(image)\n",
        "    return out_img\n",
        "\n",
        "def resample_image(image, target_spacing, interp):\n",
        "    \"\"\"Resample to new spacing (xyz).\"\"\"\n",
        "    original_spacing = image.GetSpacing()\n",
        "    original_size = image.GetSize()\n",
        "    new_size = [\n",
        "        int(np.round(original_size[i] * (original_spacing[i] / target_spacing[i])))\n",
        "        for i in range(3)\n",
        "    ]\n",
        "    resample = sitk.ResampleImageFilter()\n",
        "    resample.SetOutputSpacing(target_spacing)\n",
        "    resample.SetSize(new_size)\n",
        "    resample.SetInterpolator(interp)\n",
        "    resample.SetOutputDirection(image.GetDirection())\n",
        "    resample.SetOutputOrigin(image.GetOrigin())\n",
        "    return resample.Execute(image)\n",
        "\n",
        "def normalize_intensity_zscore(image):\n",
        "    \"\"\"Per-volume Z-score normalization.\"\"\"\n",
        "    array = sitk.GetArrayFromImage(image).astype(np.float32)\n",
        "    mean, std = np.mean(array), np.std(array)\n",
        "    if std < 1e-6:\n",
        "        std = 1e-6\n",
        "    norm_array = (array - mean) / std\n",
        "    out_img = sitk.GetImageFromArray(norm_array)\n",
        "    out_img.CopyInformation(image)\n",
        "    return out_img\n",
        "\n",
        "def preprocess_image(image_path, output_path):\n",
        "    \"\"\"Preprocess a CT image: orientation -> optional window -> resample -> normalize.\"\"\"\n",
        "    image = sitk.ReadImage(image_path)\n",
        "    print_image_info(image, title=f\"Original Image: {os.path.basename(image_path)}\")\n",
        "\n",
        "    image = standardize_orientation(image)\n",
        "\n",
        "    if WINDOW_INTENSITIES:\n",
        "        image = window_intensity(image, HU_LOW, HU_HIGH)\n",
        "\n",
        "    image = resample_image(image, TARGET_SPACING, interp=sitk.sitkBSpline)\n",
        "    image = normalize_intensity_zscore(image)\n",
        "\n",
        "    print_image_info(image, title=\"Preprocessed Image\")\n",
        "    sitk.WriteImage(image, output_path)\n",
        "    print(f\"Processed image saved: {output_path}\\n\")\n",
        "\n",
        "def preprocess_label(label_path, output_path):\n",
        "    \"\"\"Preprocess a label: orientation -> nearest-neighbor resample -> optional ID swap.\"\"\"\n",
        "    label = sitk.ReadImage(label_path)\n",
        "    print_image_info(label, title=f\"Original Label: {os.path.basename(label_path)}\")\n",
        "\n",
        "    label = standardize_orientation(label)\n",
        "    label = resample_image(label, TARGET_SPACING, interp=sitk.sitkNearestNeighbor)\n",
        "\n",
        "    # If needed, swap IDs\n",
        "    if DO_LABEL_SWAP:\n",
        "        arr = sitk.GetArrayFromImage(label)\n",
        "        new_arr = np.zeros_like(arr)\n",
        "        for old_val, new_val in SWAP_MAP.items():\n",
        "            new_arr[arr == old_val] = new_val\n",
        "        label = sitk.GetImageFromArray(new_arr)\n",
        "        label.CopyInformation(label)  # preserve metadata\n",
        "\n",
        "    print_image_info(label, title=\"Preprocessed Label\")\n",
        "    sitk.WriteImage(label, output_path)\n",
        "    print(f\"Processed label saved: {output_path}\\n\")"
      ],
      "metadata": {
        "id": "HjuCFDm_G09S"
      },
      "execution_count": null,
      "outputs": []
    },
    {
      "cell_type": "code",
      "source": [
        "# 6.1 - Extract Data (if needed)\n",
        "if os.path.exists(raw_tar_path):\n",
        "    with tarfile.open(raw_tar_path, 'r') as tar:\n",
        "        tar.extractall(path=\".\")\n",
        "    print(f\"Extracted data to: {extraction_dir}\")\n",
        "else:\n",
        "    print(\"No .tar file found. Skipping extraction.\")\n",
        "\n",
        "# 6.2 - Remove Hidden/Extra Files\n",
        "def remove_extra_files(folder):\n",
        "    if not os.path.exists(folder):\n",
        "        return\n",
        "    for file_ in os.listdir(folder):\n",
        "        if file_.startswith(\".\") or file_.startswith(\"._\"):\n",
        "            path_ = os.path.join(folder, file_)\n",
        "            if os.path.isdir(path_):\n",
        "                shutil.rmtree(path_)\n",
        "            else:\n",
        "                os.remove(path_)\n",
        "\n",
        "img_folder = os.path.join(extraction_dir, \"imagesTr\")\n",
        "lbl_folder = os.path.join(extraction_dir, \"labelsTr\")\n",
        "remove_extra_files(img_folder)\n",
        "remove_extra_files(lbl_folder)\n"
      ],
      "metadata": {
        "id": "Z1lFznwZG0_2"
      },
      "execution_count": null,
      "outputs": []
    },
    {
      "cell_type": "code",
      "source": [
        "# 6.3 - Check Matching Filenames\n",
        "def check_matching_files(image_folder, label_folder):\n",
        "    img_files = sorted([f for f in os.listdir(image_folder) if f.endswith(\".nii.gz\")])\n",
        "    lbl_files = sorted([f for f in os.listdir(label_folder) if f.endswith(\".nii.gz\")])\n",
        "    if len(img_files) != len(lbl_files):\n",
        "        print(f\"WARNING: {len(img_files)} images vs {len(lbl_files)} labels.\")\n",
        "    else:\n",
        "        print(\"Images & labels count is consistent.\")\n",
        "\n",
        "    for im, lb in zip(img_files, lbl_files):\n",
        "        if im.split('.')[0] != lb.split('.')[0]:\n",
        "            print(f\"Filename mismatch: {im} vs {lb}\")\n",
        "    return img_files, lbl_files\n",
        "\n",
        "image_files, label_files = check_matching_files(img_folder, lbl_folder)\n",
        "\n",
        "# 6.4 - Preprocessing the Entire Set\n",
        "preproc_img_dir = os.path.join(extraction_dir, \"Preprocessed_images\")\n",
        "preproc_lbl_dir = os.path.join(extraction_dir, \"Preprocessed_labels\")\n",
        "os.makedirs(preproc_img_dir, exist_ok=True)\n",
        "os.makedirs(preproc_lbl_dir, exist_ok=True)\n",
        "\n",
        "print(\"\\nStarting preprocessing of images & labels...\")\n",
        "for f in image_files:\n",
        "    ipath = os.path.join(img_folder, f)\n",
        "    opath = os.path.join(preproc_img_dir, f)\n",
        "    preprocess_image(ipath, opath)\n",
        "\n",
        "for f in label_files:\n",
        "    ipath = os.path.join(lbl_folder, f)\n",
        "    opath = os.path.join(preproc_lbl_dir, f)\n",
        "    preprocess_label(ipath, opath)\n",
        "print(\"\\nPreprocessing complete!\")"
      ],
      "metadata": {
        "id": "RCEJ8KIlG1C5"
      },
      "execution_count": null,
      "outputs": []
    },
    {
      "cell_type": "code",
      "source": [
        "#####################################################################\n",
        "# 7) Splitting into Train/Val\n",
        "#####################################################################\n",
        "split_dir = os.path.join(extraction_dir, \"split_dataset\")\n",
        "train_img_dir = os.path.join(split_dir, \"train\", \"images\")\n",
        "train_lbl_dir = os.path.join(split_dir, \"train\", \"labels\")\n",
        "val_img_dir   = os.path.join(split_dir, \"val\",   \"images\")\n",
        "val_lbl_dir   = os.path.join(split_dir, \"val\",   \"labels\")\n",
        "\n",
        "for d in [train_img_dir, train_lbl_dir, val_img_dir, val_lbl_dir]:\n",
        "    os.makedirs(d, exist_ok=True)\n",
        "\n",
        "preproc_images = sorted([f for f in os.listdir(preproc_img_dir) if f.endswith(\".nii.gz\")])\n",
        "preproc_labels = sorted([f for f in os.listdir(preproc_lbl_dir) if f.endswith(\".nii.gz\")])\n",
        "\n",
        "all_pairs = list(zip(preproc_images, preproc_labels))\n",
        "random.seed(42)\n",
        "random.shuffle(all_pairs)\n",
        "split_ratio = 0.85\n",
        "split_idx = int(split_ratio * len(all_pairs))\n",
        "train_pairs = all_pairs[:split_idx]\n",
        "val_pairs   = all_pairs[split_idx:]\n",
        "print(f\"Total samples: {len(all_pairs)} | Train: {len(train_pairs)} | Val: {len(val_pairs)}\")\n",
        "\n",
        "# Copy to respective folders\n",
        "for (imgf, lblf) in train_pairs:\n",
        "    shutil.copy(os.path.join(preproc_img_dir,  imgf), os.path.join(train_img_dir, imgf))\n",
        "    shutil.copy(os.path.join(preproc_lbl_dir, lblf), os.path.join(train_lbl_dir, lblf))\n",
        "\n",
        "for (imgf, lblf) in val_pairs:\n",
        "    shutil.copy(os.path.join(preproc_img_dir,  imgf), os.path.join(val_img_dir, imgf))\n",
        "    shutil.copy(os.path.join(preproc_lbl_dir, lblf), os.path.join(val_lbl_dir, lblf))\n",
        "\n",
        "print(\"Train/Val split done!\")"
      ],
      "metadata": {
        "id": "Kg4KVm_fG1Fd"
      },
      "execution_count": null,
      "outputs": []
    },
    {
      "cell_type": "code",
      "source": [
        "#####################################################################\n",
        "# 8)Archive the Final Split to Drive\n",
        "#####################################################################\n",
        "archive_name = \"split_dataset\"\n",
        "shutil.make_archive(archive_name, 'tar', root_dir=split_dir)\n",
        "dest_path = os.path.join(\"/content/drive/MyDrive\", f\"{archive_name}.tar\")\n",
        "shutil.move(f\"{archive_name}.tar\", dest_path)\n",
        "print(f\"Archived dataset saved to: {dest_path}\")"
      ],
      "metadata": {
        "id": "-oC3je0yHRTi"
      },
      "execution_count": null,
      "outputs": []
    },
    {
      "cell_type": "code",
      "source": [
        "#####################################################################\n",
        "# 9) Quick Visualization of a Random Sample\n",
        "#####################################################################\n",
        "def visualize_sample(image_path, label_path, slice_idx=None):\n",
        "    image = sitk.ReadImage(image_path)\n",
        "    label = sitk.ReadImage(label_path)\n",
        "    img_np = sitk.GetArrayFromImage(image)\n",
        "    lbl_np = sitk.GetArrayFromImage(label)\n",
        "\n",
        "    if slice_idx is None:\n",
        "        slice_idx = img_np.shape[0] // 2\n",
        "\n",
        "    fig, ax = plt.subplots(1, 2, figsize=(12, 5))\n",
        "    ax[0].imshow(img_np[slice_idx], cmap='gray')\n",
        "    ax[0].set_title(\"Image\")\n",
        "    ax[1].imshow(img_np[slice_idx], cmap='gray')\n",
        "    ax[1].imshow(lbl_np[slice_idx], alpha=0.5)\n",
        "    ax[1].set_title(\"Overlay (Label)\")\n",
        "    plt.show()\n",
        "\n",
        "# Example: visualize the first training sample\n",
        "train_imgs = sorted(os.listdir(train_img_dir))\n",
        "train_lbls = sorted(os.listdir(train_lbl_dir))\n",
        "if len(train_imgs) > 0:\n",
        "    sample_image_path = os.path.join(train_img_dir, train_imgs[0])\n",
        "    sample_label_path = os.path.join(train_lbl_dir, train_lbls[0])\n",
        "    visualize_sample(sample_image_path, sample_label_path, slice_idx=50)\n",
        "\n",
        "print(\"All Done! Colab+Drive preprocessing pipeline complete.\")"
      ],
      "metadata": {
        "id": "qjImm0TcHRWl"
      },
      "execution_count": null,
      "outputs": []
    },
    {
      "cell_type": "code",
      "source": [
        "import os\n",
        "import tarfile\n",
        "\n",
        "# Path to the archived dataset tar file in Drive\n",
        "tar_path = \"/content/drive/MyDrive/split_dataset.tar\"\n",
        "\n",
        "# Choose where you want to extract it on Drive\n",
        "extract_path = \"/content/drive/MyDrive/extracted_split_dataset\"\n",
        "os.makedirs(extract_path, exist_ok=True)\n",
        "\n",
        "# Extract\n",
        "with tarfile.open(tar_path, 'r') as tar:\n",
        "    tar.extractall(path=extract_path)\n",
        "\n",
        "print(f\"Extraction complete! Dataset is now in: {extract_path}\")\n"
      ],
      "metadata": {
        "id": "Hl_Ir_h2HRZW"
      },
      "execution_count": null,
      "outputs": []
    },
    {
      "cell_type": "code",
      "source": [
        "def visualize_image_and_label(image_path, label_path, slice_idx=None):\n",
        "    \"\"\"\n",
        "    Loads a 3D .nii.gz image and its corresponding label,\n",
        "    then displays a single slice for both side-by-side.\n",
        "    \"\"\"\n",
        "    # Read with SimpleITK\n",
        "    image_itk = sitk.ReadImage(image_path)\n",
        "    label_itk = sitk.ReadImage(label_path)\n",
        "\n",
        "    # Convert to numpy arrays: shape (D, H, W)\n",
        "    image_np = sitk.GetArrayFromImage(image_itk)\n",
        "    label_np = sitk.GetArrayFromImage(label_itk)\n",
        "\n",
        "    # Default to the middle slice if none is provided\n",
        "    if slice_idx is None:\n",
        "        slice_idx = image_np.shape[0] // 2\n",
        "\n",
        "    print(f\"Visualizing slice {slice_idx} of {os.path.basename(image_path)}\")\n",
        "    print(f\"Image shape: {image_np.shape} | Label shape: {label_np.shape}\")\n",
        "\n",
        "    # Plot side-by-side\n",
        "    fig, axes = plt.subplots(1, 2, figsize=(12, 6))\n",
        "\n",
        "    # Left: the raw image\n",
        "    axes[0].imshow(image_np[slice_idx], cmap='gray')\n",
        "    axes[0].set_title(\"Image Slice\")\n",
        "\n",
        "    # Right: overlay label on the same slice\n",
        "    axes[1].imshow(image_np[slice_idx], cmap='gray')\n",
        "    axes[1].imshow(label_np[slice_idx], cmap='jet', alpha=0.4)\n",
        "    axes[1].set_title(\"Image + Label Overlay\")\n",
        "\n",
        "    plt.show()\n",
        "\n",
        "\n",
        "extracted_base = \"/content/drive/MyDrive/extracted_split_dataset\"\n",
        "\n",
        "train_img_dir = os.path.join(extracted_base, \"train\", \"images\")\n",
        "train_lbl_dir = os.path.join(extracted_base, \"train\", \"labels\")\n",
        "\n",
        "# List all .nii.gz files\n",
        "train_imgs = sorted([f for f in os.listdir(train_img_dir) if f.endswith(\".nii.gz\")])\n",
        "train_lbls = sorted([f for f in os.listdir(train_lbl_dir) if f.endswith(\".nii.gz\")])\n",
        "\n",
        "if len(train_imgs) != len(train_lbls):\n",
        "    print(f\"Warning: #images={len(train_imgs)} vs #labels={len(train_lbls)}.\")\n",
        "else:\n",
        "    print(f\"Found {len(train_imgs)} image/label pairs.\")\n",
        "\n",
        "# Pick a random pair\n",
        "random_idx = random.randint(0, len(train_imgs) - 1)\n",
        "img_file = train_imgs[random_idx]\n",
        "lbl_file = train_lbls[random_idx]\n",
        "\n",
        "img_path = os.path.join(train_img_dir, img_file)\n",
        "lbl_path = os.path.join(train_lbl_dir, lbl_file)\n",
        "\n",
        "# Visualize\n",
        "visualize_image_and_label(img_path, lbl_path, slice_idx=50)  # or any slice index you want"
      ],
      "metadata": {
        "id": "dTE7HU4PHRba"
      },
      "execution_count": null,
      "outputs": []
    },
    {
      "cell_type": "code",
      "source": [
        "###############################################################################\n",
        "#  A) Pad-or-Crop Function\n",
        "###############################################################################\n",
        "def pad_or_crop_to_shape(sitk_image, target_shape=(256,256,256)):\n",
        "    array = sitk.GetArrayFromImage(sitk_image)  # (D,H,W)\n",
        "    dd, hh, ww = array.shape\n",
        "    TD, TH, TW = target_shape\n",
        "\n",
        "    out_array = np.zeros((TD, TH, TW), dtype=array.dtype)\n",
        "\n",
        "    def center_slice_for_target(orig_size, new_size):\n",
        "        start = max((new_size - orig_size)//2, 0)\n",
        "        end = start + min(orig_size, new_size)\n",
        "        return slice(start, end)\n",
        "\n",
        "    def center_slice_for_orig(orig_size, new_size):\n",
        "        start = max((orig_size - new_size)//2, 0)\n",
        "        end = start + min(orig_size, new_size)\n",
        "        return slice(start, end)\n",
        "\n",
        "    # Destination slices\n",
        "    dstD = center_slice_for_target(dd, TD)\n",
        "    dstH = center_slice_for_target(hh, TH)\n",
        "    dstW = center_slice_for_target(ww, TW)\n",
        "\n",
        "    # Source slices\n",
        "    srcD = center_slice_for_orig(dd, TD)\n",
        "    srcH = center_slice_for_orig(hh, TH)\n",
        "    srcW = center_slice_for_orig(ww, TW)\n",
        "\n",
        "    out_array[dstD, dstH, dstW] = array[srcD, srcH, srcW]\n",
        "\n",
        "    out_sitk = sitk.GetImageFromArray(out_array)\n",
        "    out_sitk.SetSpacing(sitk_image.GetSpacing())\n",
        "    out_sitk.SetDirection(sitk_image.GetDirection())\n",
        "    out_sitk.SetOrigin(sitk_image.GetOrigin())\n",
        "    return out_sitk"
      ],
      "metadata": {
        "id": "mUXFwLSkxegh"
      },
      "execution_count": null,
      "outputs": []
    },
    {
      "cell_type": "code",
      "source": [
        "###############################################################################\n",
        "#  B) Function to Remove Leading/Trailing Spaces in Filenames\n",
        "###############################################################################\n",
        "def clean_filenames(folder):\n",
        "    \"\"\"\n",
        "    For every file in `folder`,\n",
        "    1) If the filename has leading/trailing spaces, rename it to a stripped version.\n",
        "    2) Optionally could fix other hidden chars, but this is a minimal approach.\n",
        "    \"\"\"\n",
        "    for fname in os.listdir(folder):\n",
        "        original_path = os.path.join(folder, fname)\n",
        "        # Skip subfolders or non-file items if any\n",
        "        if not os.path.isfile(original_path):\n",
        "            continue\n",
        "        clean_name = fname.strip()  # remove leading/trailing whitespace\n",
        "        # If the stripped name differs, renames\n",
        "        if clean_name != fname:\n",
        "            new_path = os.path.join(folder, clean_name)\n",
        "            print(f\"Renaming:\\n  '{fname}' -> '{clean_name}'\")\n",
        "            os.rename(original_path, new_path)"
      ],
      "metadata": {
        "id": "AZoXHGo8IVau"
      },
      "execution_count": null,
      "outputs": []
    },
    {
      "cell_type": "code",
      "source": [
        "# Path to your split dataset\n",
        "split_dataset_dir = \"/content/drive/MyDrive/extracted_split_dataset\"\n",
        "\n",
        "train_img_dir = os.path.join(split_dataset_dir, \"train\", \"images\")\n",
        "train_lbl_dir = os.path.join(split_dataset_dir, \"train\", \"labels\")\n",
        "val_img_dir   = os.path.join(split_dataset_dir, \"val\", \"images\")\n",
        "val_lbl_dir   = os.path.join(split_dataset_dir, \"val\", \"labels\")\n",
        "\n",
        "# Path to store the resized version\n",
        "resized_root = \"/content/drive/MyDrive/Task08_HepaticVessel/Resized_dataset\"\n",
        "resized_train_img_dir = os.path.join(resized_root, \"train\", \"images\")\n",
        "resized_train_lbl_dir = os.path.join(resized_root, \"train\", \"labels\")\n",
        "resized_val_img_dir   = os.path.join(resized_root, \"val\",   \"images\")\n",
        "resized_val_lbl_dir   = os.path.join(resized_root, \"val\",   \"labels\")\n",
        "\n",
        "for d in [resized_train_img_dir, resized_train_lbl_dir, resized_val_img_dir, resized_val_lbl_dir]:\n",
        "    os.makedirs(d, exist_ok=True)\n",
        "\n",
        "# Desired final shape\n",
        "TARGET_SHAPE = (256, 256, 256)\n",
        "\n",
        "# 1) Cleanup any trailing/leading spaces in filenames\n",
        "print(\"Cleaning filenames in train images/labels, val images/labels...\")\n",
        "clean_filenames(train_img_dir)\n",
        "clean_filenames(train_lbl_dir)\n",
        "clean_filenames(val_img_dir)\n",
        "clean_filenames(val_lbl_dir)\n",
        "\n",
        "# 2) Now gather the sorted filenames\n",
        "train_imgs = sorted([f for f in os.listdir(train_img_dir) if f.endswith(\".nii.gz\")])\n",
        "train_lbls = sorted([f for f in os.listdir(train_lbl_dir) if f.endswith(\".nii.gz\")])\n",
        "val_imgs   = sorted([f for f in os.listdir(val_img_dir)   if f.endswith(\".nii.gz\")])\n",
        "val_lbls   = sorted([f for f in os.listdir(val_lbl_dir)   if f.endswith(\".nii.gz\")])\n",
        "\n",
        "# Check if counts match (optional)\n",
        "if len(train_imgs) != len(train_lbls):\n",
        "    print(f\"WARNING: #train images={len(train_imgs)} != #train labels={len(train_lbls)}\")\n",
        "if len(val_imgs) != len(val_lbls):\n",
        "    print(f\"WARNING: #val images={len(val_imgs)} != #val labels={len(val_lbls)}\")"
      ],
      "metadata": {
        "id": "4npG4yaUIVho"
      },
      "execution_count": null,
      "outputs": []
    },
    {
      "cell_type": "code",
      "source": [
        "##############################################################\n",
        "#  Resize train set\n",
        "##############################################################\n",
        "for img_name, lbl_name in zip(train_imgs, train_lbls):\n",
        "    img_path = os.path.join(train_img_dir, img_name)\n",
        "    lbl_path = os.path.join(train_lbl_dir, lbl_name)\n",
        "    # Double-check the file physically exists\n",
        "    if not os.path.isfile(img_path):\n",
        "        print(f\"Skipping: {img_path} doesn't exist.\")\n",
        "        continue\n",
        "    if not os.path.isfile(lbl_path):\n",
        "        print(f\"Skipping: {lbl_path} doesn't exist.\")\n",
        "        continue\n",
        "\n",
        "    # Attempt to read\n",
        "    try:\n",
        "        sitk_img = sitk.ReadImage(img_path)\n",
        "        sitk_lbl = sitk.ReadImage(lbl_path)\n",
        "    except Exception as e:\n",
        "        print(f\"Failed reading {img_path} or {lbl_path}. Error:\\n{e}\")\n",
        "        continue\n",
        "\n",
        "    # Pad or crop\n",
        "    resized_img = pad_or_crop_to_shape(sitk_img, TARGET_SHAPE)\n",
        "    resized_lbl = pad_or_crop_to_shape(sitk_lbl, TARGET_SHAPE)\n",
        "\n",
        "    # Save\n",
        "    out_img_path = os.path.join(resized_train_img_dir, img_name)\n",
        "    out_lbl_path = os.path.join(resized_train_lbl_dir, lbl_name)\n",
        "    sitk.WriteImage(resized_img, out_img_path)\n",
        "    sitk.WriteImage(resized_lbl, out_lbl_path)\n",
        "\n",
        "    print(f\"Resized train pair: {img_name} & {lbl_name}\")\n",
        "\n",
        "##############################################################\n",
        "#  Resize val set\n",
        "##############################################################\n",
        "for img_name, lbl_name in zip(val_imgs, val_lbls):\n",
        "    img_path = os.path.join(val_img_dir, img_name)\n",
        "    lbl_path = os.path.join(val_lbl_dir, lbl_name)\n",
        "    # Double-check the file physically exists\n",
        "    if not os.path.isfile(img_path):\n",
        "        print(f\"Skipping: {img_path} doesn't exist.\")\n",
        "        continue\n",
        "    if not os.path.isfile(lbl_path):\n",
        "        print(f\"Skipping: {lbl_path} doesn't exist.\")\n",
        "        continue\n",
        "\n",
        "    try:\n",
        "        sitk_img = sitk.ReadImage(img_path)\n",
        "        sitk_lbl = sitk.ReadImage(lbl_path)\n",
        "    except Exception as e:\n",
        "        print(f\"Failed reading {img_path} or {lbl_path}. Error:\\n{e}\")\n",
        "        continue\n",
        "\n",
        "    resized_img = pad_or_crop_to_shape(sitk_img, TARGET_SHAPE)\n",
        "    resized_lbl = pad_or_crop_to_shape(sitk_lbl, TARGET_SHAPE)\n",
        "\n",
        "    out_img_path = os.path.join(resized_val_img_dir, img_name)\n",
        "    out_lbl_path = os.path.join(resized_val_lbl_dir, lbl_name)\n",
        "    sitk.WriteImage(resized_img, out_img_path)\n",
        "    sitk.WriteImage(resized_lbl, out_lbl_path)\n",
        "\n",
        "    print(f\"Resized val pair: {img_name} & {lbl_name}\")\n",
        "\n",
        "print(\"Resizing complete! All train/val sets have shape:\", TARGET_SHAPE)"
      ],
      "metadata": {
        "id": "XAbv7LtTIigL"
      },
      "execution_count": null,
      "outputs": []
    },
    {
      "cell_type": "code",
      "source": [
        "def visualize_image_and_label(image_path, label_path, slice_idx=None):\n",
        "    \"\"\"\n",
        "    Loads a 3D .nii.gz image and label,\n",
        "    then displays a single slice from each side-by-side.\n",
        "    If slice_idx is None, we default to the middle slice.\n",
        "    \"\"\"\n",
        "    # Read images with SimpleITK\n",
        "    image_itk = sitk.ReadImage(image_path)\n",
        "    label_itk = sitk.ReadImage(label_path)\n",
        "\n",
        "    # Convert to NumPy arrays of shape (D, H, W)\n",
        "    img_np = sitk.GetArrayFromImage(image_itk)\n",
        "    lbl_np = sitk.GetArrayFromImage(label_itk)\n",
        "\n",
        "    # Choose a slice (middle if not specified)\n",
        "    if slice_idx is None:\n",
        "        slice_idx = img_np.shape[0] // 2\n",
        "\n",
        "    print(f\"Showing slice {slice_idx} of {os.path.basename(image_path)}\")\n",
        "    print(f\"  Image shape: {img_np.shape} | Label shape: {lbl_np.shape}\")\n",
        "\n",
        "    # Plot side by side\n",
        "    fig, axes = plt.subplots(1, 2, figsize=(12, 6))\n",
        "\n",
        "    # Left: raw image\n",
        "    axes[0].imshow(img_np[slice_idx], cmap='gray')\n",
        "    axes[0].set_title(\"Image Slice\")\n",
        "\n",
        "    # Right: overlay label\n",
        "    axes[1].imshow(img_np[slice_idx], cmap='gray')\n",
        "    axes[1].imshow(lbl_np[slice_idx], cmap='jet', alpha=0.4)\n",
        "    axes[1].set_title(\"Overlay Label\")\n",
        "\n",
        "    plt.show()"
      ],
      "metadata": {
        "id": "rfc9c763Irb9"
      },
      "execution_count": null,
      "outputs": []
    },
    {
      "cell_type": "code",
      "source": [
        "# ===========================\n",
        "# Paths to your resized data\n",
        "# ===========================\n",
        "resized_root = \"/content/drive/MyDrive/Task08_HepaticVessel/Resized_dataset\"\n",
        "\n",
        "train_img_dir = os.path.join(resized_root, \"train\", \"images\")\n",
        "train_lbl_dir = os.path.join(resized_root, \"train\", \"labels\")\n",
        "val_img_dir   = os.path.join(resized_root, \"val\",   \"images\")\n",
        "val_lbl_dir   = os.path.join(resized_root, \"val\",   \"labels\")\n",
        "\n",
        "# List the filenames in train images and labels\n",
        "train_imgs = sorted([f for f in os.listdir(train_img_dir) if f.endswith(\".nii.gz\")])\n",
        "train_lbls = sorted([f for f in os.listdir(train_lbl_dir) if f.endswith(\".nii.gz\")])\n",
        "\n",
        "print(f\"Train images: {len(train_imgs)} files\")\n",
        "print(f\"Train labels: {len(train_lbls)} files\")"
      ],
      "metadata": {
        "id": "gfHHg7ylIyEi"
      },
      "execution_count": null,
      "outputs": []
    },
    {
      "cell_type": "code",
      "source": [
        "# ===========================\n",
        "# Example: Visualize a random pair from train set\n",
        "# ===========================\n",
        "if len(train_imgs) > 0:\n",
        "    # pick a random index\n",
        "    idx = random.randint(0, len(train_imgs)-1)\n",
        "    img_name = train_imgs[idx]\n",
        "    lbl_name = train_lbls[idx]\n",
        "\n",
        "    img_path = os.path.join(train_img_dir, img_name)\n",
        "    lbl_path = os.path.join(train_lbl_dir, lbl_name)\n",
        "\n",
        "    # Show slice #100 or the middle slice\n",
        "    visualize_image_and_label(img_path, lbl_path, slice_idx=100)\n",
        "else:\n",
        "    print(\"No training images found in the resized dataset folder!\")\n"
      ],
      "metadata": {
        "id": "tAWpvVYmI022"
      },
      "execution_count": null,
      "outputs": []
    },
    {
      "cell_type": "code",
      "source": [
        "# ===========================\n",
        "# Example: Visualize a few validation pairs in a loop\n",
        "# ===========================\n",
        "val_imgs = sorted([f for f in os.listdir(val_img_dir) if f.endswith(\".nii.gz\")])\n",
        "val_lbls = sorted([f for f in os.listdir(val_lbl_dir) if f.endswith(\".nii.gz\")])\n",
        "\n",
        "print(f\"Validation images: {len(val_imgs)} files\")\n",
        "print(f\"Validation labels: {len(val_lbls)} files\")\n",
        "\n",
        "# Let’s visualize the first 3 validation pairs (or fewer if not enough exist)\n",
        "num_to_show = min(3, len(val_imgs), len(val_lbls))\n",
        "for i in range(num_to_show):\n",
        "    img_name = val_imgs[i]\n",
        "    lbl_name = val_lbls[i]\n",
        "    img_path = os.path.join(val_img_dir, img_name)\n",
        "    lbl_path = os.path.join(val_lbl_dir, lbl_name)\n",
        "\n",
        "    # Show slice #80 or the middle\n",
        "    visualize_image_and_label(img_path, lbl_path, slice_idx=80)"
      ],
      "metadata": {
        "id": "sZsy2WnFI3k4"
      },
      "execution_count": null,
      "outputs": []
    },
    {
      "cell_type": "code",
      "source": [
        "def inspect_label(label_path):\n",
        "    \"\"\"\n",
        "    Reads a label file, prints its shape, unique values,\n",
        "    and (optionally) bounding box of nonzero region.\n",
        "    \"\"\"\n",
        "    # Read\n",
        "    lbl_itk = sitk.ReadImage(label_path)\n",
        "    lbl_arr = sitk.GetArrayFromImage(lbl_itk)  # shape (D,H,W)\n",
        "\n",
        "    # Basic info\n",
        "    print(f\"Label: {os.path.basename(label_path)}\")\n",
        "    print(f\"  Size (Z, Y, X): {lbl_itk.GetSize()} (i.e. array shape={lbl_arr.shape})\")\n",
        "\n",
        "    # Unique values\n",
        "    uniques = np.unique(lbl_arr)\n",
        "    print(f\"  Unique values: {uniques}\")\n",
        "\n",
        "    # If all zero or only one value, we can skip bounding box\n",
        "    if len(uniques) == 1 and uniques[0] == 0:\n",
        "        print(\"  --> Label is entirely background (all zeros).\")\n",
        "        return\n",
        "\n",
        "    # Otherwise, find the bounding box of nonzero region\n",
        "    nonzero_indices = np.argwhere(lbl_arr != 0)\n",
        "    zmin, ymin, xmin = nonzero_indices.min(axis=0)\n",
        "    zmax, ymax, xmax = nonzero_indices.max(axis=0)\n",
        "    print(f\"  Nonzero bounding box: Z:{zmin}..{zmax}, Y:{ymin}..{ymax}, X:{xmin}..{xmax}\")\n",
        "    print(\"-\"*50)"
      ],
      "metadata": {
        "id": "S7ZumssiI-AZ"
      },
      "execution_count": null,
      "outputs": []
    },
    {
      "cell_type": "code",
      "source": [
        "# Set the path to your Resized dataset\n",
        "resized_root = \"/content/drive/MyDrive/Task08_HepaticVessel/Resized_dataset\"\n",
        "\n",
        "# Subfolders\n",
        "train_img_dir = os.path.join(resized_root, \"train\", \"images\")\n",
        "train_lbl_dir = os.path.join(resized_root, \"train\", \"labels\")\n",
        "val_img_dir   = os.path.join(resized_root, \"val\",   \"images\")\n",
        "val_lbl_dir   = os.path.join(resized_root, \"val\",   \"labels\")\n",
        "\n",
        "# Gather sorted filenames\n",
        "train_imgs = sorted([f for f in os.listdir(train_img_dir) if f.endswith(\".nii.gz\")])\n",
        "train_lbls = sorted([f for f in os.listdir(train_lbl_dir) if f.endswith(\".nii.gz\")])\n",
        "val_imgs   = sorted([f for f in os.listdir(val_img_dir) if f.endswith(\".nii.gz\")])\n",
        "val_lbls   = sorted([f for f in os.listdir(val_lbl_dir) if f.endswith(\".nii.gz\")])\n",
        "\n",
        "# Check train set\n",
        "print(\"\\n=== Checking train set ===\")\n",
        "for img_name, lbl_name in zip(train_imgs, train_lbls):\n",
        "    lbl_path = os.path.join(train_lbl_dir, lbl_name)\n",
        "    # Inspect\n",
        "    inspect_label(lbl_path)\n",
        "\n",
        "# Check val set\n",
        "print(\"\\n=== Checking val set ===\")\n",
        "for img_name, lbl_name in zip(val_imgs, val_lbls):\n",
        "    lbl_path = os.path.join(val_lbl_dir, lbl_name)\n",
        "    inspect_label(lbl_path)"
      ],
      "metadata": {
        "id": "bBxIbJQRJC5x"
      },
      "execution_count": null,
      "outputs": []
    },
    {
      "cell_type": "code",
      "source": [
        "label_path = \"/content/drive/MyDrive/Task08_HepaticVessel/Resized_dataset/train/labels/hepaticvessel_004.nii.gz\"\n",
        "label_itk = sitk.ReadImage(label_path)\n",
        "\n",
        "# 2) Convert to NumPy\n",
        "lbl_arr = sitk.GetArrayFromImage(label_itk)\n",
        "\n",
        "# 3) Computes how many voxels are label=1 vs label=2\n",
        "mask1 = (lbl_arr == 1)\n",
        "mask2 = (lbl_arr == 2)\n",
        "print(\"Mask1 has\", mask1.sum(), \"voxels.\")\n",
        "print(\"Mask2 has\", mask2.sum(), \"voxels.\")"
      ],
      "metadata": {
        "id": "mtosL4qSjNPd"
      },
      "execution_count": null,
      "outputs": []
    },
    {
      "cell_type": "code",
      "source": [
        "import matplotlib.pyplot as plt\n",
        "\n",
        "slice_idx = 100  # or another slice in the bounding-box range\n",
        "image_slice = lbl_arr[slice_idx]  # the label array or the raw image array\n",
        "\n",
        "# For the raw image, read the associated .nii.gz and do the same slicing\n",
        "# Then overlay mask1 or mask2 in different colors\n",
        "\n",
        "# For example, if raw image is in `img_arr`:\n",
        "#   plt.imshow(img_arr[slice_idx], cmap='gray')\n",
        "\n",
        "# Then overlay mask1 in red\n",
        "mask1_slice = (lbl_arr[slice_idx] == 1)\n",
        "plt.imshow(mask1_slice, cmap='Reds', alpha=0.4)\n",
        "\n",
        "# Then overlay mask2 in blue\n",
        "mask2_slice = (lbl_arr[slice_idx] == 2)\n",
        "plt.imshow(mask2_slice, cmap='Blues', alpha=0.4)\n",
        "\n",
        "plt.show()"
      ],
      "metadata": {
        "id": "jZViNU22jNSE"
      },
      "execution_count": null,
      "outputs": []
    },
    {
      "cell_type": "code",
      "source": [
        "def count_label_voxels(label_path):\n",
        "    \"\"\"\n",
        "    Loads a 3D label volume from 'label_path' and counts how many voxels ==1 and ==2.\n",
        "    Returns (count_1, count_2).\n",
        "    \"\"\"\n",
        "    lbl_itk = sitk.ReadImage(label_path)\n",
        "    lbl_arr = sitk.GetArrayFromImage(lbl_itk)\n",
        "\n",
        "    mask1 = (lbl_arr == 1)\n",
        "    mask2 = (lbl_arr == 2)\n",
        "    return mask1.sum(), mask2.sum()\n",
        "\n",
        "resized_root = \"/content/drive/MyDrive/Task08_HepaticVessel/Resized_dataset\"\n",
        "\n",
        "# Train\n",
        "train_lbl_dir = os.path.join(resized_root, \"train\", \"labels\")\n",
        "train_lbls = sorted([f for f in os.listdir(train_lbl_dir) if f.endswith(\".nii.gz\")])\n",
        "\n",
        "print(\"=== Train Set ===\")\n",
        "for lbl_name in train_lbls:\n",
        "    lbl_path = os.path.join(train_lbl_dir, lbl_name)\n",
        "    c1, c2 = count_label_voxels(lbl_path)\n",
        "    print(f\"{lbl_name} => label=1 has {c1} voxels, label=2 has {c2} voxels.\")\n",
        "\n",
        "# Validation\n",
        "val_lbl_dir = os.path.join(resized_root, \"val\", \"labels\")\n",
        "val_lbls = sorted([f for f in os.listdir(val_lbl_dir) if f.endswith(\".nii.gz\")])\n",
        "\n",
        "print(\"\\n=== Validation Set ===\")\n",
        "for lbl_name in val_lbls:\n",
        "    lbl_path = os.path.join(val_lbl_dir, lbl_name)\n",
        "    c1, c2 = count_label_voxels(lbl_path)\n",
        "    print(f\"{lbl_name} => label=1 has {c1} voxels, label=2 has {c2} voxels.\")"
      ],
      "metadata": {
        "id": "LOPi4cLxjNUX"
      },
      "execution_count": null,
      "outputs": []
    },
    {
      "cell_type": "code",
      "source": [
        "def find_bounding_box(label_array):\n",
        "    \"\"\"\n",
        "    Returns (zmin, zmax) for the bounding box of nonzero voxels in a 3D array.\n",
        "    If label is all zero, returns None, None.\n",
        "    \"\"\"\n",
        "    nonzero = np.argwhere(label_array != 0)\n",
        "    if len(nonzero) == 0:\n",
        "        return None, None\n",
        "    zmin = nonzero[:,0].min()\n",
        "    zmax = nonzero[:,0].max()\n",
        "    return zmin, zmax\n",
        "\n",
        "def visualize_random_slice(img_path, lbl_path):\n",
        "    \"\"\"\n",
        "    Reads the 3D image and label, picks a random slice within the label's\n",
        "    bounding box in the Z dimension, and displays them side-by-side.\n",
        "    \"\"\"\n",
        "    # Read them\n",
        "    img_itk = sitk.ReadImage(img_path)\n",
        "    lbl_itk = sitk.ReadImage(lbl_path)\n",
        "\n",
        "    # Convert to NumPy arrays\n",
        "    img_arr = sitk.GetArrayFromImage(img_itk)  # (D, H, W)\n",
        "    lbl_arr = sitk.GetArrayFromImage(lbl_itk)  # (D, H, W)\n",
        "\n",
        "    # Find bounding box in Z dimension\n",
        "    zmin, zmax = find_bounding_box(lbl_arr)\n",
        "    depth = img_arr.shape[0]\n",
        "\n",
        "    # If label is entirely zero, just pick middle or a random slice\n",
        "    if zmin is None or zmax is None:\n",
        "        slice_idx = depth // 2\n",
        "        print(f\"{os.path.basename(lbl_path)} => Entirely zero label, showing middle slice {slice_idx}\")\n",
        "    else:\n",
        "        # pick a random slice in [zmin, zmax]\n",
        "        slice_idx = random.randint(zmin, zmax)\n",
        "        print(f\"{os.path.basename(lbl_path)} => Random slice in bounding box: {slice_idx} (Z range: {zmin}..{zmax})\")\n",
        "\n",
        "    # Plots side by side\n",
        "    fig, axes = plt.subplots(1, 2, figsize=(12,6))\n",
        "\n",
        "    # Left: raw image\n",
        "    axes[0].imshow(img_arr[slice_idx], cmap='gray')\n",
        "    axes[0].set_title(f\"Image Slice {slice_idx}\")\n",
        "\n",
        "    # Right: overlay label\n",
        "    axes[1].imshow(img_arr[slice_idx], cmap='gray')\n",
        "    axes[1].imshow(lbl_arr[slice_idx], cmap='jet', alpha=0.4)\n",
        "    axes[1].set_title(\"Overlay Label\")\n",
        "\n",
        "    plt.show()"
      ],
      "metadata": {
        "id": "_J7I4Z5ljNXT"
      },
      "execution_count": null,
      "outputs": []
    },
    {
      "cell_type": "code",
      "source": [
        "# ============================================\n",
        "resized_root = \"/content/drive/MyDrive/Task08_HepaticVessel/Resized_dataset\"\n",
        "\n",
        "train_img_dir = os.path.join(resized_root, \"train\", \"images\")\n",
        "train_lbl_dir = os.path.join(resized_root, \"train\", \"labels\")\n",
        "\n",
        "val_img_dir   = os.path.join(resized_root, \"val\", \"images\")\n",
        "val_lbl_dir   = os.path.join(resized_root, \"val\", \"labels\")\n",
        "\n",
        "# Lists all training image/label pairs\n",
        "train_imgs = sorted([f for f in os.listdir(train_img_dir) if f.endswith('.nii.gz')])\n",
        "train_lbls = sorted([f for f in os.listdir(train_lbl_dir) if f.endswith('.nii.gz')])\n",
        "\n",
        "# 1) Visualises a few random volumes from the train set\n",
        "num_to_show = 5\n",
        "random_indices = random.sample(range(len(train_imgs)), min(num_to_show, len(train_imgs)))\n",
        "\n",
        "for idx in random_indices:\n",
        "    img_name = train_imgs[idx]\n",
        "    lbl_name = train_lbls[idx]\n",
        "    img_path = os.path.join(train_img_dir, img_name)\n",
        "    lbl_path = os.path.join(train_lbl_dir, lbl_name)\n",
        "    visualize_random_slice(img_path, lbl_path)\n",
        "\n",
        "val_imgs = sorted([f for f in os.listdir(val_img_dir) if f.endswith('.nii.gz')])\n",
        "val_lbls = sorted([f for f in os.listdir(val_lbl_dir) if f.endswith('.nii.gz')])\n",
        "\n",
        "# We'll also pick e.g. 3 volumes from val\n",
        "val_indices = random.sample(range(len(val_imgs)), min(3, len(val_imgs)))\n",
        "\n",
        "for idx in val_indices:\n",
        "    img_name = val_imgs[idx]\n",
        "    lbl_name = val_lbls[idx]\n",
        "    img_path = os.path.join(val_img_dir, img_name)\n",
        "    lbl_path = os.path.join(val_lbl_dir, lbl_name)\n",
        "    visualize_random_slice(img_path, lbl_path)"
      ],
      "metadata": {
        "id": "c9X65jHiJh2m"
      },
      "execution_count": null,
      "outputs": []
    },
    {
      "cell_type": "code",
      "source": [
        "!nvidia-smi"
      ],
      "metadata": {
        "colab": {
          "base_uri": "https://localhost:8080/"
        },
        "id": "aatdOArhjNai",
        "outputId": "412641e8-bf26-4116-e031-ae908488441f"
      },
      "execution_count": null,
      "outputs": [
        {
          "output_type": "stream",
          "name": "stdout",
          "text": [
            "Thu Mar 27 13:32:27 2025       \n",
            "+-----------------------------------------------------------------------------------------+\n",
            "| NVIDIA-SMI 550.54.15              Driver Version: 550.54.15      CUDA Version: 12.4     |\n",
            "|-----------------------------------------+------------------------+----------------------+\n",
            "| GPU  Name                 Persistence-M | Bus-Id          Disp.A | Volatile Uncorr. ECC |\n",
            "| Fan  Temp   Perf          Pwr:Usage/Cap |           Memory-Usage | GPU-Util  Compute M. |\n",
            "|                                         |                        |               MIG M. |\n",
            "|=========================================+========================+======================|\n",
            "|   0  NVIDIA A100-SXM4-40GB          Off |   00000000:00:04.0 Off |                    0 |\n",
            "| N/A   32C    P0             50W /  400W |       0MiB /  40960MiB |      0%      Default |\n",
            "|                                         |                        |             Disabled |\n",
            "+-----------------------------------------+------------------------+----------------------+\n",
            "                                                                                         \n",
            "+-----------------------------------------------------------------------------------------+\n",
            "| Processes:                                                                              |\n",
            "|  GPU   GI   CI        PID   Type   Process name                              GPU Memory |\n",
            "|        ID   ID                                                               Usage      |\n",
            "|=========================================================================================|\n",
            "|  No running processes found                                                             |\n",
            "+-----------------------------------------------------------------------------------------+\n"
          ]
        }
      ]
    },
    {
      "cell_type": "code",
      "source": [
        "# Sets seeds for reproducibility\n",
        "seed = 42\n",
        "random.seed(seed)\n",
        "np.random.seed(seed)\n",
        "torch.manual_seed(seed)\n",
        "torch.cuda.manual_seed_all(seed)"
      ],
      "metadata": {
        "id": "gs8fOyBoKF96"
      },
      "execution_count": null,
      "outputs": []
    },
    {
      "cell_type": "code",
      "source": [
        "# ==================== Utils ====================\n",
        "def normalize_ct(slice_np, min_val=-1000, max_val=1000):\n",
        "    slice_clipped = np.clip(slice_np, min_val, max_val)\n",
        "    slice_norm = (slice_clipped - min_val) / (max_val - min_val + 1e-8)\n",
        "    return slice_norm\n",
        "\n",
        "def apply_clahe(slice_np):\n",
        "    slice_rescaled = (slice_np * 255).astype(np.uint8)\n",
        "    clahe = cv2.createCLAHE(clipLimit=2.0, tileGridSize=(8, 8))\n",
        "    enhanced = clahe.apply(slice_rescaled).astype(np.float32) / 255.0\n",
        "    return enhanced\n",
        "\n",
        "class Nifti2_5DDataset(Dataset):\n",
        "    def __init__(self, images_paths, labels_paths, transforms=None):\n",
        "        self.images_paths = images_paths\n",
        "        self.labels_paths = labels_paths\n",
        "        self.transforms = transforms\n",
        "\n",
        "    def __len__(self):\n",
        "        return len(self.images_paths)\n",
        "\n",
        "    def __getitem__(self, idx):\n",
        "        image = sitk.ReadImage(self.images_paths[idx])\n",
        "        label = sitk.ReadImage(self.labels_paths[idx])\n",
        "        image_np = sitk.GetArrayFromImage(image)\n",
        "        label_np = sitk.GetArrayFromImage(label)\n",
        "        label_np = np.where(label_np > 0, 1, 0).astype(np.float32)\n",
        "\n",
        "        slice_idx = image_np.shape[0] // 2\n",
        "        slices = image_np[slice_idx-1:slice_idx+2]\n",
        "\n",
        "        img_stack = []\n",
        "        for s in slices:\n",
        "            # Conditional normalization\n",
        "            if s.max() > 250 or s.min() < -200:\n",
        "                s = normalize_ct(s)\n",
        "\n",
        "            # Apply CLAHE\n",
        "            s = apply_clahe(s)\n",
        "            img_stack.append(s)\n",
        "\n",
        "        img_stack = np.stack(img_stack)\n",
        "        lbl_slice = label_np[slice_idx]\n",
        "\n",
        "        if self.transforms:\n",
        "            augmented = self.transforms(image=img_stack.transpose(1, 2, 0), mask=lbl_slice)\n",
        "            img_stack = augmented['image'].float()\n",
        "            lbl_slice = augmented['mask'].float()\n",
        "\n",
        "        return img_stack, lbl_slice.unsqueeze(0)\n"
      ],
      "metadata": {
        "id": "0X8ZJkKQKJFA"
      },
      "execution_count": null,
      "outputs": []
    },
    {
      "cell_type": "code",
      "source": [
        "train_transforms = A.Compose([\n",
        "    A.HorizontalFlip(p=0.5),\n",
        "    A.Rotate(limit=15, p=0.5),\n",
        "    A.ElasticTransform(alpha=1, sigma=50, p=0.3),\n",
        "    A.RandomGamma(p=0.3),\n",
        "    A.GridDistortion(p=0.2),\n",
        "    A.RandomResizedCrop((128, 128), scale=(0.8, 1.0), p=0.4),\n",
        "    A.Resize(128, 128),\n",
        "    ToTensorV2()\n",
        "])\n",
        "val_transforms = A.Compose([\n",
        "    A.Resize(128, 128),\n",
        "    ToTensorV2()\n",
        "])"
      ],
      "metadata": {
        "id": "5yA1brZTKMFe"
      },
      "execution_count": null,
      "outputs": []
    },
    {
      "cell_type": "code",
      "source": [
        "def combined_loss(outputs, targets):\n",
        "    tversky = smp.losses.TverskyLoss(mode='binary', alpha=0.7, beta=0.3)\n",
        "    bce = smp.losses.SoftBCEWithLogitsLoss(pos_weight=torch.tensor(20.0).to(outputs.device))\n",
        "    return tversky(outputs, targets) + bce(outputs, targets)\n",
        "\n",
        "def train_epoch(model, loader, optimizer, device):\n",
        "    model.train()\n",
        "    total_loss = 0\n",
        "    for images, masks in tqdm(loader, desc='Training'):\n",
        "        images, masks = images.to(device), masks.to(device)\n",
        "        optimizer.zero_grad()\n",
        "        outputs = model(images)\n",
        "        loss = combined_loss(outputs, masks)\n",
        "        loss.backward()\n",
        "        optimizer.step()\n",
        "        total_loss += loss.item()\n",
        "    return total_loss / len(loader)\n",
        "\n",
        "def validate_epoch(model, loader, device, threshold=0.5):\n",
        "    model.eval()\n",
        "    dice_scores = []\n",
        "    losses = []\n",
        "    with torch.no_grad():\n",
        "        for images, masks in tqdm(loader, desc='Validation'):\n",
        "            images, masks = images.to(device), masks.to(device)\n",
        "            outputs = model(images)\n",
        "            loss = combined_loss(outputs, masks)\n",
        "            losses.append(loss.item())\n",
        "            outputs = torch.sigmoid(outputs)\n",
        "            preds = (outputs > threshold).float()\n",
        "\n",
        "            for pred, mask in zip(preds, masks):\n",
        "                if mask.sum() == 0:\n",
        "                    continue  # skip slices with no vessel\n",
        "                intersection = (pred * mask).sum()\n",
        "                union = pred.sum() + mask.sum()\n",
        "                dice = (2 * intersection) / (union + 1e-8)\n",
        "                dice_value = dice.item()\n",
        "                if dice_value > 0.01:\n",
        "                    dice_scores.append(dice_value)\n",
        "\n",
        "    mean_loss = np.mean(losses)\n",
        "    if dice_scores:\n",
        "        dice_metric = np.percentile(dice_scores, 90) * 100\n",
        "    else:\n",
        "        dice_metric = -1\n",
        "    return dice_metric, mean_loss\n",
        "\n",
        "def visualize_prediction(model, dataset, device, epoch, fold, phase='val', save_dir=\"/content/drive/MyDrive/SegmentationVis\"):\n",
        "    model.eval()\n",
        "    save_path = os.path.join(save_dir, phase)\n",
        "    os.makedirs(save_path, exist_ok=True)\n",
        "\n",
        "    predicted_pixels_list = []\n",
        "    predicted_masks_raw = []\n",
        "\n",
        "    thresholds = [0.3, 0.5, 0.7]  # ← thresholds to visualise\n",
        "\n",
        "    for i in range(min(3, len(dataset))):\n",
        "        img, mask = dataset[i]\n",
        "        img_input = img.unsqueeze(0).to(device)\n",
        "        mask_np = mask.squeeze().numpy()\n",
        "\n",
        "        with torch.no_grad():\n",
        "            pred = torch.sigmoid(model(img_input)).squeeze().cpu().numpy()\n",
        "        predicted_masks_raw.append(pred)\n",
        "\n",
        "        fig, axs = plt.subplots(1, len(thresholds) + 3, figsize=(5 * (len(thresholds) + 3), 4))\n",
        "\n",
        "        # Pre-processed image\n",
        "        axs[0].imshow(img[0], cmap='gray')\n",
        "        axs[0].set_title(\"Pre-Processed Slice\")\n",
        "        axs[0].axis('off')\n",
        "\n",
        "        # Ground truth\n",
        "        axs[1].imshow(img[0], cmap='gray')\n",
        "        axs[1].imshow(mask_np, alpha=0.5, cmap='Greens')\n",
        "        axs[1].set_title(\"Ground Truth\")\n",
        "        axs[1].axis('off')\n",
        "\n",
        "        # Show predictions at different thresholds\n",
        "        for j, st in enumerate(thresholds):\n",
        "            binary_mask = (pred > t)\n",
        "            predicted_pixels = binary_mask.sum().item()\n",
        "            predicted_pixels_list.append(predicted_pixels)\n",
        "\n",
        "            axs[2 + j].imshow(img[0], cmap='gray')\n",
        "            axs[2 + j].imshow(binary_mask, alpha=0.5, cmap='Reds')\n",
        "            axs[2 + j].set_title(f\"Predicted (>{t})\\nPixels: {predicted_pixels}\")\n",
        "            axs[2 + j].axis('off')\n",
        "\n",
        "        # Soft heatmap\n",
        "        axs[-1].imshow(pred, cmap='hot')\n",
        "        axs[-1].set_title(\"Soft Prediction Heatmap\")\n",
        "        axs[-1].axis('off')\n",
        "\n",
        "        plt.tight_layout()\n",
        "        plt.savefig(os.path.join(save_path, f\"fold{fold}_epoch{epoch}_sample{i}.png\"))\n",
        "        plt.close()\n",
        "\n",
        "    # --- Average predicted pixels over all samples and thresholds ---\n",
        "    avg_predicted = sum(predicted_pixels_list) / len(predicted_pixels_list)\n",
        "    print(f\"[Fold {fold} | Epoch {epoch}] Average predicted vessel pixels (from visualised samples): {avg_predicted:.2f}\")\n",
        "\n",
        "    # --- Save to CSV ---\n",
        "    stats_csv_path = os.path.join(save_dir, \"visualisation_stats.csv\")\n",
        "    write_header = not os.path.exists(stats_csv_path)\n",
        "\n",
        "    with open(stats_csv_path, \"a\") as f:\n",
        "        if write_header:\n",
        "            f.write(\"fold,epoch,avg_predicted_pixels\\n\")\n",
        "        f.write(f\"{fold},{epoch},{avg_predicted:.2f}\\n\")\n",
        "\n",
        "    # --- Visualises average soft prediction mask ---\n",
        "    avg_pred_mask = np.mean(predicted_masks_raw, axis=0)\n",
        "    fig, ax = plt.subplots(figsize=(6, 5))\n",
        "    ax.imshow(avg_pred_mask, cmap='hot')\n",
        "    ax.set_title(f\"Average Soft Prediction (Epoch {epoch})\")\n",
        "    ax.axis('off')\n",
        "    plt.tight_layout()\n",
        "    plt.savefig(os.path.join(save_path, f\"fold{fold}_epoch{epoch}_avg_prediction.png\"))\n",
        "    plt.close()\n",
        "\n"
      ],
      "metadata": {
        "id": "2AZzNo_LKN7l"
      },
      "execution_count": null,
      "outputs": []
    },
    {
      "cell_type": "code",
      "source": [
        "def main_train():\n",
        "    from torch.optim.lr_scheduler import ReduceLROnPlateau\n",
        "    device = torch.device('cuda' if torch.cuda.is_available() else 'cpu')\n",
        "\n",
        "    train_img_dir = \"/content/drive/MyDrive/Task08_HepaticVessel/Resized_dataset/train/images\"\n",
        "    train_lbl_dir = \"/content/drive/MyDrive/Task08_HepaticVessel/Resized_dataset/train/labels\"\n",
        "\n",
        "    images = sorted([os.path.join(train_img_dir, f) for f in os.listdir(train_img_dir) if f.endswith('.nii.gz')])\n",
        "    labels = sorted([os.path.join(train_lbl_dir, f) for f in os.listdir(train_lbl_dir) if f.endswith('.nii.gz')])\n",
        "\n",
        "    kf = KFold(n_splits=3, shuffle=True, random_state=42)\n",
        "    scores = []\n",
        "\n",
        "    for fold, (train_idx, val_idx) in enumerate(kf.split(images)):\n",
        "        print(f\"Fold {fold+1}\")\n",
        "        train_ds = Nifti2_5DDataset([images[i] for i in train_idx], [labels[i] for i in train_idx], train_transforms)\n",
        "        val_ds = Nifti2_5DDataset([images[i] for i in val_idx], [labels[i] for i in val_idx], val_transforms)\n",
        "\n",
        "        train_loader = DataLoader(train_ds, batch_size=8, shuffle=True, num_workers=4)\n",
        "        val_loader = DataLoader(val_ds, batch_size=8, shuffle=False, num_workers=4)\n",
        "\n",
        "        model = smp.Unet(encoder_name='efficientnet-b3', encoder_weights='imagenet', in_channels=3, classes=1).to(device)\n",
        "        optimizer = optim.AdamW(model.parameters(), lr=5e-4)\n",
        "        scheduler = ReduceLROnPlateau(optimizer, mode='min', factor=0.5, patience=3, verbose=True)\n",
        "\n",
        "        best_dice = 0\n",
        "        metrics = []\n",
        "        for epoch in range(30):\n",
        "            train_loss = train_epoch(model, train_loader, optimizer, device)\n",
        "            val_dice, val_loss = validate_epoch(model, val_loader, device)\n",
        "            scheduler.step(val_loss)\n",
        "            print(f\"Epoch {epoch+1}/30 - Train Loss: {train_loss:.4f}, Val Loss: {val_loss:.4f}, Dice: {val_dice:.2f}%\")\n",
        "            metrics.append({\"epoch\": epoch+1, \"train_loss\": train_loss, \"val_loss\": val_loss, \"val_dice\": val_dice})\n",
        "            visualize_prediction(model, train_ds, device, epoch + 1, fold + 1, phase='train')\n",
        "            visualize_prediction(model, val_ds, device, epoch + 1, fold + 1, phase='val')\n",
        "\n",
        "            if val_dice > best_dice:\n",
        "                best_dice = val_dice\n",
        "                torch.save(model.state_dict(), f\"best_model_foldLast{fold}.pth\")\n",
        "\n",
        "        scores.append(best_dice)\n",
        "        df = pd.DataFrame(metrics)\n",
        "        df.to_csv(f\"/content/drive/MyDrive/fold_{fold+1}_metrics.csv\", index=False)\n",
        "\n",
        "    print(f\"\\nAverage Dice across folds: {np.mean(scores):.2f}%\")\n",
        "\n",
        "if __name__ == '__main__':\n",
        "    main_train()\n",
        "    debug_overfit_one_sample()"
      ],
      "metadata": {
        "colab": {
          "base_uri": "https://localhost:8080/"
        },
        "id": "cPV6Bq4vKape",
        "outputId": "da5d64fe-5c80-4054-b557-4760cae25c2d"
      },
      "execution_count": null,
      "outputs": [
        {
          "output_type": "stream",
          "name": "stdout",
          "text": [
            "Fold 1\n"
          ]
        },
        {
          "output_type": "stream",
          "name": "stderr",
          "text": [
            "Training: 100%|██████████| 22/22 [00:33<00:00,  1.50s/it]\n",
            "Validation: 100%|██████████| 11/11 [00:16<00:00,  1.48s/it]\n"
          ]
        },
        {
          "output_type": "stream",
          "name": "stdout",
          "text": [
            "Epoch 1/30 - Train Loss: 1.7735, Val Loss: 1.5514, Dice: 40.99%\n",
            "[Fold 1 | Epoch 1] Average predicted vessel pixels (from visualised samples): 2052.89\n",
            "[Fold 1 | Epoch 1] Average predicted vessel pixels (from visualised samples): 1803.44\n"
          ]
        },
        {
          "output_type": "stream",
          "name": "stderr",
          "text": [
            "Training: 100%|██████████| 22/22 [00:32<00:00,  1.49s/it]\n",
            "Validation: 100%|██████████| 11/11 [00:16<00:00,  1.48s/it]\n"
          ]
        },
        {
          "output_type": "stream",
          "name": "stdout",
          "text": [
            "Epoch 2/30 - Train Loss: 1.5449, Val Loss: 1.7472, Dice: 48.41%\n",
            "[Fold 1 | Epoch 2] Average predicted vessel pixels (from visualised samples): 552.78\n",
            "[Fold 1 | Epoch 2] Average predicted vessel pixels (from visualised samples): 166.56\n"
          ]
        },
        {
          "output_type": "stream",
          "name": "stderr",
          "text": [
            "Training: 100%|██████████| 22/22 [00:32<00:00,  1.48s/it]\n",
            "Validation: 100%|██████████| 11/11 [00:16<00:00,  1.49s/it]\n"
          ]
        },
        {
          "output_type": "stream",
          "name": "stdout",
          "text": [
            "Epoch 3/30 - Train Loss: 1.4027, Val Loss: 1.8134, Dice: 46.66%\n",
            "[Fold 1 | Epoch 3] Average predicted vessel pixels (from visualised samples): 482.00\n",
            "[Fold 1 | Epoch 3] Average predicted vessel pixels (from visualised samples): 35.22\n"
          ]
        },
        {
          "output_type": "stream",
          "name": "stderr",
          "text": [
            "Training: 100%|██████████| 22/22 [00:32<00:00,  1.49s/it]\n",
            "Validation: 100%|██████████| 11/11 [00:16<00:00,  1.52s/it]\n"
          ]
        },
        {
          "output_type": "stream",
          "name": "stdout",
          "text": [
            "Epoch 4/30 - Train Loss: 1.3639, Val Loss: 2.2282, Dice: 49.13%\n",
            "[Fold 1 | Epoch 4] Average predicted vessel pixels (from visualised samples): 2.44\n",
            "[Fold 1 | Epoch 4] Average predicted vessel pixels (from visualised samples): 0.00\n"
          ]
        },
        {
          "output_type": "stream",
          "name": "stderr",
          "text": [
            "Training: 100%|██████████| 22/22 [00:33<00:00,  1.53s/it]\n",
            "Validation: 100%|██████████| 11/11 [00:16<00:00,  1.52s/it]\n"
          ]
        },
        {
          "output_type": "stream",
          "name": "stdout",
          "text": [
            "Epoch 5/30 - Train Loss: 1.2643, Val Loss: 1.8524, Dice: 38.57%\n",
            "[Fold 1 | Epoch 5] Average predicted vessel pixels (from visualised samples): 855.22\n",
            "[Fold 1 | Epoch 5] Average predicted vessel pixels (from visualised samples): 38.00\n"
          ]
        },
        {
          "output_type": "stream",
          "name": "stderr",
          "text": [
            "Training: 100%|██████████| 22/22 [00:33<00:00,  1.51s/it]\n",
            "Validation: 100%|██████████| 11/11 [00:16<00:00,  1.51s/it]\n"
          ]
        },
        {
          "output_type": "stream",
          "name": "stdout",
          "text": [
            "Epoch 6/30 - Train Loss: 1.2163, Val Loss: 2.1429, Dice: 30.87%\n",
            "[Fold 1 | Epoch 6] Average predicted vessel pixels (from visualised samples): 183.22\n",
            "[Fold 1 | Epoch 6] Average predicted vessel pixels (from visualised samples): 0.22\n"
          ]
        },
        {
          "output_type": "stream",
          "name": "stderr",
          "text": [
            "Training: 100%|██████████| 22/22 [00:32<00:00,  1.49s/it]\n",
            "Validation: 100%|██████████| 11/11 [00:16<00:00,  1.51s/it]\n"
          ]
        },
        {
          "output_type": "stream",
          "name": "stdout",
          "text": [
            "Epoch 7/30 - Train Loss: 1.2070, Val Loss: 1.8640, Dice: 53.22%\n",
            "[Fold 1 | Epoch 7] Average predicted vessel pixels (from visualised samples): 1395.33\n",
            "[Fold 1 | Epoch 7] Average predicted vessel pixels (from visualised samples): 332.89\n"
          ]
        },
        {
          "output_type": "stream",
          "name": "stderr",
          "text": [
            "Training: 100%|██████████| 22/22 [00:32<00:00,  1.49s/it]\n",
            "Validation: 100%|██████████| 11/11 [00:16<00:00,  1.50s/it]\n"
          ]
        },
        {
          "output_type": "stream",
          "name": "stdout",
          "text": [
            "Epoch 8/30 - Train Loss: 1.1683, Val Loss: 2.1839, Dice: 51.35%\n",
            "[Fold 1 | Epoch 8] Average predicted vessel pixels (from visualised samples): 247.78\n",
            "[Fold 1 | Epoch 8] Average predicted vessel pixels (from visualised samples): 29.89\n"
          ]
        },
        {
          "output_type": "stream",
          "name": "stderr",
          "text": [
            "Training: 100%|██████████| 22/22 [00:32<00:00,  1.50s/it]\n",
            "Validation: 100%|██████████| 11/11 [00:16<00:00,  1.53s/it]\n"
          ]
        },
        {
          "output_type": "stream",
          "name": "stdout",
          "text": [
            "Epoch 9/30 - Train Loss: 1.1090, Val Loss: 2.0714, Dice: 49.93%\n",
            "[Fold 1 | Epoch 9] Average predicted vessel pixels (from visualised samples): 254.56\n",
            "[Fold 1 | Epoch 9] Average predicted vessel pixels (from visualised samples): 17.33\n"
          ]
        },
        {
          "output_type": "stream",
          "name": "stderr",
          "text": [
            "Training: 100%|██████████| 22/22 [00:33<00:00,  1.52s/it]\n",
            "Validation: 100%|██████████| 11/11 [00:16<00:00,  1.52s/it]\n"
          ]
        },
        {
          "output_type": "stream",
          "name": "stdout",
          "text": [
            "Epoch 10/30 - Train Loss: 1.0675, Val Loss: 2.0435, Dice: 48.27%\n",
            "[Fold 1 | Epoch 10] Average predicted vessel pixels (from visualised samples): 119.44\n",
            "[Fold 1 | Epoch 10] Average predicted vessel pixels (from visualised samples): 31.67\n"
          ]
        },
        {
          "output_type": "stream",
          "name": "stderr",
          "text": [
            "Training: 100%|██████████| 22/22 [00:33<00:00,  1.51s/it]\n",
            "Validation: 100%|██████████| 11/11 [00:16<00:00,  1.51s/it]\n"
          ]
        },
        {
          "output_type": "stream",
          "name": "stdout",
          "text": [
            "Epoch 11/30 - Train Loss: 1.0388, Val Loss: 2.0081, Dice: 44.94%\n",
            "[Fold 1 | Epoch 11] Average predicted vessel pixels (from visualised samples): 243.67\n",
            "[Fold 1 | Epoch 11] Average predicted vessel pixels (from visualised samples): 26.11\n"
          ]
        },
        {
          "output_type": "stream",
          "name": "stderr",
          "text": [
            "Training: 100%|██████████| 22/22 [00:33<00:00,  1.50s/it]\n",
            "Validation: 100%|██████████| 11/11 [00:16<00:00,  1.51s/it]\n"
          ]
        },
        {
          "output_type": "stream",
          "name": "stdout",
          "text": [
            "Epoch 12/30 - Train Loss: 1.1116, Val Loss: 2.1572, Dice: 42.30%\n",
            "[Fold 1 | Epoch 12] Average predicted vessel pixels (from visualised samples): 91.56\n",
            "[Fold 1 | Epoch 12] Average predicted vessel pixels (from visualised samples): 22.44\n"
          ]
        },
        {
          "output_type": "stream",
          "name": "stderr",
          "text": [
            "Training: 100%|██████████| 22/22 [00:33<00:00,  1.52s/it]\n",
            "Validation: 100%|██████████| 11/11 [00:16<00:00,  1.50s/it]\n"
          ]
        },
        {
          "output_type": "stream",
          "name": "stdout",
          "text": [
            "Epoch 13/30 - Train Loss: 1.0422, Val Loss: 1.9702, Dice: 38.02%\n",
            "[Fold 1 | Epoch 13] Average predicted vessel pixels (from visualised samples): 204.44\n",
            "[Fold 1 | Epoch 13] Average predicted vessel pixels (from visualised samples): 22.67\n"
          ]
        },
        {
          "output_type": "stream",
          "name": "stderr",
          "text": [
            "Training: 100%|██████████| 22/22 [00:33<00:00,  1.50s/it]\n",
            "Validation: 100%|██████████| 11/11 [00:16<00:00,  1.52s/it]\n"
          ]
        },
        {
          "output_type": "stream",
          "name": "stdout",
          "text": [
            "Epoch 14/30 - Train Loss: 1.0127, Val Loss: 1.8615, Dice: 52.68%\n",
            "[Fold 1 | Epoch 14] Average predicted vessel pixels (from visualised samples): 202.11\n",
            "[Fold 1 | Epoch 14] Average predicted vessel pixels (from visualised samples): 61.11\n"
          ]
        },
        {
          "output_type": "stream",
          "name": "stderr",
          "text": [
            "Training: 100%|██████████| 22/22 [00:32<00:00,  1.50s/it]\n",
            "Validation: 100%|██████████| 11/11 [00:16<00:00,  1.52s/it]\n"
          ]
        },
        {
          "output_type": "stream",
          "name": "stdout",
          "text": [
            "Epoch 15/30 - Train Loss: 1.0365, Val Loss: 1.8569, Dice: 57.87%\n",
            "[Fold 1 | Epoch 15] Average predicted vessel pixels (from visualised samples): 547.44\n",
            "[Fold 1 | Epoch 15] Average predicted vessel pixels (from visualised samples): 66.44\n"
          ]
        },
        {
          "output_type": "stream",
          "name": "stderr",
          "text": [
            "Training: 100%|██████████| 22/22 [00:33<00:00,  1.50s/it]\n",
            "Validation: 100%|██████████| 11/11 [00:16<00:00,  1.52s/it]\n"
          ]
        },
        {
          "output_type": "stream",
          "name": "stdout",
          "text": [
            "Epoch 16/30 - Train Loss: 1.0502, Val Loss: 1.5982, Dice: 65.37%\n",
            "[Fold 1 | Epoch 16] Average predicted vessel pixels (from visualised samples): 846.67\n",
            "[Fold 1 | Epoch 16] Average predicted vessel pixels (from visualised samples): 183.44\n"
          ]
        },
        {
          "output_type": "stream",
          "name": "stderr",
          "text": [
            "Training: 100%|██████████| 22/22 [00:33<00:00,  1.51s/it]\n",
            "Validation: 100%|██████████| 11/11 [00:16<00:00,  1.52s/it]\n"
          ]
        },
        {
          "output_type": "stream",
          "name": "stdout",
          "text": [
            "Epoch 17/30 - Train Loss: 1.0092, Val Loss: 1.6332, Dice: 75.28%\n",
            "[Fold 1 | Epoch 17] Average predicted vessel pixels (from visualised samples): 141.78\n",
            "[Fold 1 | Epoch 17] Average predicted vessel pixels (from visualised samples): 141.44\n"
          ]
        },
        {
          "output_type": "stream",
          "name": "stderr",
          "text": [
            "Training: 100%|██████████| 22/22 [00:33<00:00,  1.51s/it]\n",
            "Validation: 100%|██████████| 11/11 [00:16<00:00,  1.52s/it]\n"
          ]
        },
        {
          "output_type": "stream",
          "name": "stdout",
          "text": [
            "Epoch 18/30 - Train Loss: 1.0001, Val Loss: 1.6183, Dice: 76.03%\n",
            "[Fold 1 | Epoch 18] Average predicted vessel pixels (from visualised samples): 290.00\n",
            "[Fold 1 | Epoch 18] Average predicted vessel pixels (from visualised samples): 160.33\n"
          ]
        },
        {
          "output_type": "stream",
          "name": "stderr",
          "text": [
            "Training: 100%|██████████| 22/22 [00:33<00:00,  1.51s/it]\n",
            "Validation: 100%|██████████| 11/11 [00:16<00:00,  1.52s/it]\n"
          ]
        },
        {
          "output_type": "stream",
          "name": "stdout",
          "text": [
            "Epoch 19/30 - Train Loss: 0.9675, Val Loss: 1.5824, Dice: 71.64%\n",
            "[Fold 1 | Epoch 19] Average predicted vessel pixels (from visualised samples): 733.44\n",
            "[Fold 1 | Epoch 19] Average predicted vessel pixels (from visualised samples): 203.56\n"
          ]
        },
        {
          "output_type": "stream",
          "name": "stderr",
          "text": [
            "Training: 100%|██████████| 22/22 [00:33<00:00,  1.51s/it]\n",
            "Validation: 100%|██████████| 11/11 [00:16<00:00,  1.51s/it]\n"
          ]
        },
        {
          "output_type": "stream",
          "name": "stdout",
          "text": [
            "Epoch 20/30 - Train Loss: 0.9625, Val Loss: 1.5901, Dice: 71.62%\n",
            "[Fold 1 | Epoch 20] Average predicted vessel pixels (from visualised samples): 758.22\n",
            "[Fold 1 | Epoch 20] Average predicted vessel pixels (from visualised samples): 174.33\n"
          ]
        },
        {
          "output_type": "stream",
          "name": "stderr",
          "text": [
            "Training: 100%|██████████| 22/22 [00:32<00:00,  1.50s/it]\n",
            "Validation: 100%|██████████| 11/11 [00:16<00:00,  1.54s/it]\n"
          ]
        },
        {
          "output_type": "stream",
          "name": "stdout",
          "text": [
            "Epoch 21/30 - Train Loss: 0.9391, Val Loss: 1.6246, Dice: 66.88%\n",
            "[Fold 1 | Epoch 21] Average predicted vessel pixels (from visualised samples): 410.56\n",
            "[Fold 1 | Epoch 21] Average predicted vessel pixels (from visualised samples): 156.33\n"
          ]
        },
        {
          "output_type": "stream",
          "name": "stderr",
          "text": [
            "Training: 100%|██████████| 22/22 [00:32<00:00,  1.50s/it]\n",
            "Validation: 100%|██████████| 11/11 [00:16<00:00,  1.53s/it]\n"
          ]
        },
        {
          "output_type": "stream",
          "name": "stdout",
          "text": [
            "Epoch 22/30 - Train Loss: 0.9364, Val Loss: 1.6095, Dice: 65.62%\n",
            "[Fold 1 | Epoch 22] Average predicted vessel pixels (from visualised samples): 623.44\n",
            "[Fold 1 | Epoch 22] Average predicted vessel pixels (from visualised samples): 183.22\n"
          ]
        },
        {
          "output_type": "stream",
          "name": "stderr",
          "text": [
            "Training: 100%|██████████| 22/22 [00:33<00:00,  1.52s/it]\n",
            "Validation: 100%|██████████| 11/11 [00:16<00:00,  1.52s/it]\n"
          ]
        },
        {
          "output_type": "stream",
          "name": "stdout",
          "text": [
            "Epoch 23/30 - Train Loss: 0.9514, Val Loss: 1.6378, Dice: 65.63%\n",
            "[Fold 1 | Epoch 23] Average predicted vessel pixels (from visualised samples): 846.33\n",
            "[Fold 1 | Epoch 23] Average predicted vessel pixels (from visualised samples): 159.56\n"
          ]
        },
        {
          "output_type": "stream",
          "name": "stderr",
          "text": [
            "Training: 100%|██████████| 22/22 [00:33<00:00,  1.52s/it]\n",
            "Validation: 100%|██████████| 11/11 [00:16<00:00,  1.52s/it]\n"
          ]
        },
        {
          "output_type": "stream",
          "name": "stdout",
          "text": [
            "Epoch 24/30 - Train Loss: 0.9727, Val Loss: 1.5780, Dice: 67.69%\n",
            "[Fold 1 | Epoch 24] Average predicted vessel pixels (from visualised samples): 1496.00\n",
            "[Fold 1 | Epoch 24] Average predicted vessel pixels (from visualised samples): 216.67\n"
          ]
        },
        {
          "output_type": "stream",
          "name": "stderr",
          "text": [
            "Training: 100%|██████████| 22/22 [00:33<00:00,  1.52s/it]\n",
            "Validation: 100%|██████████| 11/11 [00:16<00:00,  1.51s/it]\n"
          ]
        },
        {
          "output_type": "stream",
          "name": "stdout",
          "text": [
            "Epoch 25/30 - Train Loss: 0.9821, Val Loss: 1.5310, Dice: 68.85%\n",
            "[Fold 1 | Epoch 25] Average predicted vessel pixels (from visualised samples): 1085.67\n",
            "[Fold 1 | Epoch 25] Average predicted vessel pixels (from visualised samples): 281.67\n"
          ]
        },
        {
          "output_type": "stream",
          "name": "stderr",
          "text": [
            "Training: 100%|██████████| 22/22 [00:32<00:00,  1.50s/it]\n",
            "Validation: 100%|██████████| 11/11 [00:16<00:00,  1.54s/it]\n"
          ]
        },
        {
          "output_type": "stream",
          "name": "stdout",
          "text": [
            "Epoch 26/30 - Train Loss: 0.9447, Val Loss: 1.5449, Dice: 66.63%\n",
            "[Fold 1 | Epoch 26] Average predicted vessel pixels (from visualised samples): 853.22\n",
            "[Fold 1 | Epoch 26] Average predicted vessel pixels (from visualised samples): 238.00\n"
          ]
        },
        {
          "output_type": "stream",
          "name": "stderr",
          "text": [
            "Training: 100%|██████████| 22/22 [00:34<00:00,  1.55s/it]\n",
            "Validation: 100%|██████████| 11/11 [00:16<00:00,  1.53s/it]\n"
          ]
        },
        {
          "output_type": "stream",
          "name": "stdout",
          "text": [
            "Epoch 27/30 - Train Loss: 0.9337, Val Loss: 1.5148, Dice: 67.68%\n",
            "[Fold 1 | Epoch 27] Average predicted vessel pixels (from visualised samples): 872.11\n",
            "[Fold 1 | Epoch 27] Average predicted vessel pixels (from visualised samples): 290.44\n"
          ]
        },
        {
          "output_type": "stream",
          "name": "stderr",
          "text": [
            "Training: 100%|██████████| 22/22 [00:33<00:00,  1.52s/it]\n",
            "Validation: 100%|██████████| 11/11 [00:16<00:00,  1.54s/it]\n"
          ]
        },
        {
          "output_type": "stream",
          "name": "stdout",
          "text": [
            "Epoch 28/30 - Train Loss: 0.9363, Val Loss: 1.5107, Dice: 66.03%\n",
            "[Fold 1 | Epoch 28] Average predicted vessel pixels (from visualised samples): 1085.89\n",
            "[Fold 1 | Epoch 28] Average predicted vessel pixels (from visualised samples): 293.67\n"
          ]
        },
        {
          "output_type": "stream",
          "name": "stderr",
          "text": [
            "Training: 100%|██████████| 22/22 [00:33<00:00,  1.51s/it]\n",
            "Validation: 100%|██████████| 11/11 [00:16<00:00,  1.53s/it]\n"
          ]
        },
        {
          "output_type": "stream",
          "name": "stdout",
          "text": [
            "Epoch 29/30 - Train Loss: 0.9299, Val Loss: 1.5182, Dice: 67.62%\n",
            "[Fold 1 | Epoch 29] Average predicted vessel pixels (from visualised samples): 793.22\n",
            "[Fold 1 | Epoch 29] Average predicted vessel pixels (from visualised samples): 269.11\n"
          ]
        },
        {
          "output_type": "stream",
          "name": "stderr",
          "text": [
            "Training: 100%|██████████| 22/22 [00:33<00:00,  1.53s/it]\n",
            "Validation: 100%|██████████| 11/11 [00:16<00:00,  1.52s/it]\n"
          ]
        },
        {
          "output_type": "stream",
          "name": "stdout",
          "text": [
            "Epoch 30/30 - Train Loss: 0.9455, Val Loss: 1.5195, Dice: 68.14%\n",
            "[Fold 1 | Epoch 30] Average predicted vessel pixels (from visualised samples): 939.44\n",
            "[Fold 1 | Epoch 30] Average predicted vessel pixels (from visualised samples): 260.67\n",
            "Fold 2\n"
          ]
        },
        {
          "output_type": "stream",
          "name": "stderr",
          "text": [
            "Training: 100%|██████████| 22/22 [00:33<00:00,  1.52s/it]\n",
            "Validation: 100%|██████████| 11/11 [00:16<00:00,  1.54s/it]\n"
          ]
        },
        {
          "output_type": "stream",
          "name": "stdout",
          "text": [
            "Epoch 1/30 - Train Loss: 1.8154, Val Loss: 3.1684, Dice: 27.02%\n",
            "[Fold 2 | Epoch 1] Average predicted vessel pixels (from visualised samples): 10578.44\n",
            "[Fold 2 | Epoch 1] Average predicted vessel pixels (from visualised samples): 10382.33\n"
          ]
        },
        {
          "output_type": "stream",
          "name": "stderr",
          "text": [
            "Training: 100%|██████████| 22/22 [00:33<00:00,  1.52s/it]\n",
            "Validation: 100%|██████████| 11/11 [00:16<00:00,  1.54s/it]\n"
          ]
        },
        {
          "output_type": "stream",
          "name": "stdout",
          "text": [
            "Epoch 2/30 - Train Loss: 1.5359, Val Loss: 1.7517, Dice: 72.01%\n",
            "[Fold 2 | Epoch 2] Average predicted vessel pixels (from visualised samples): 27.22\n",
            "[Fold 2 | Epoch 2] Average predicted vessel pixels (from visualised samples): 33.89\n"
          ]
        },
        {
          "output_type": "stream",
          "name": "stderr",
          "text": [
            "Training: 100%|██████████| 22/22 [00:33<00:00,  1.53s/it]\n",
            "Validation: 100%|██████████| 11/11 [00:16<00:00,  1.53s/it]\n"
          ]
        },
        {
          "output_type": "stream",
          "name": "stdout",
          "text": [
            "Epoch 3/30 - Train Loss: 1.4156, Val Loss: 1.7232, Dice: 59.37%\n",
            "[Fold 2 | Epoch 3] Average predicted vessel pixels (from visualised samples): 2464.78\n",
            "[Fold 2 | Epoch 3] Average predicted vessel pixels (from visualised samples): 247.78\n"
          ]
        },
        {
          "output_type": "stream",
          "name": "stderr",
          "text": [
            "Training: 100%|██████████| 22/22 [00:33<00:00,  1.52s/it]\n",
            "Validation: 100%|██████████| 11/11 [00:16<00:00,  1.53s/it]\n"
          ]
        },
        {
          "output_type": "stream",
          "name": "stdout",
          "text": [
            "Epoch 4/30 - Train Loss: 1.3292, Val Loss: 2.0382, Dice: 3.83%\n",
            "[Fold 2 | Epoch 4] Average predicted vessel pixels (from visualised samples): 7.56\n",
            "[Fold 2 | Epoch 4] Average predicted vessel pixels (from visualised samples): 1.00\n"
          ]
        },
        {
          "output_type": "stream",
          "name": "stderr",
          "text": [
            "Training: 100%|██████████| 22/22 [00:33<00:00,  1.51s/it]\n",
            "Validation: 100%|██████████| 11/11 [00:16<00:00,  1.52s/it]\n"
          ]
        },
        {
          "output_type": "stream",
          "name": "stdout",
          "text": [
            "Epoch 5/30 - Train Loss: 1.2626, Val Loss: 2.0197, Dice: 16.37%\n",
            "[Fold 2 | Epoch 5] Average predicted vessel pixels (from visualised samples): 513.22\n",
            "[Fold 2 | Epoch 5] Average predicted vessel pixels (from visualised samples): 7.67\n"
          ]
        },
        {
          "output_type": "stream",
          "name": "stderr",
          "text": [
            "Training: 100%|██████████| 22/22 [00:32<00:00,  1.50s/it]\n",
            "Validation: 100%|██████████| 11/11 [00:16<00:00,  1.54s/it]\n"
          ]
        },
        {
          "output_type": "stream",
          "name": "stdout",
          "text": [
            "Epoch 6/30 - Train Loss: 1.2250, Val Loss: 1.9095, Dice: 42.37%\n",
            "[Fold 2 | Epoch 6] Average predicted vessel pixels (from visualised samples): 733.89\n",
            "[Fold 2 | Epoch 6] Average predicted vessel pixels (from visualised samples): 162.78\n"
          ]
        },
        {
          "output_type": "stream",
          "name": "stderr",
          "text": [
            "Training: 100%|██████████| 22/22 [00:33<00:00,  1.52s/it]\n",
            "Validation: 100%|██████████| 11/11 [00:16<00:00,  1.53s/it]\n"
          ]
        },
        {
          "output_type": "stream",
          "name": "stdout",
          "text": [
            "Epoch 7/30 - Train Loss: 1.1796, Val Loss: 1.7918, Dice: 37.41%\n",
            "[Fold 2 | Epoch 7] Average predicted vessel pixels (from visualised samples): 1695.67\n",
            "[Fold 2 | Epoch 7] Average predicted vessel pixels (from visualised samples): 839.33\n"
          ]
        },
        {
          "output_type": "stream",
          "name": "stderr",
          "text": [
            "Training: 100%|██████████| 22/22 [00:33<00:00,  1.50s/it]\n",
            "Validation: 100%|██████████| 11/11 [00:16<00:00,  1.54s/it]\n"
          ]
        },
        {
          "output_type": "stream",
          "name": "stdout",
          "text": [
            "Epoch 8/30 - Train Loss: 1.1385, Val Loss: 1.7678, Dice: 33.16%\n",
            "[Fold 2 | Epoch 8] Average predicted vessel pixels (from visualised samples): 2201.11\n",
            "[Fold 2 | Epoch 8] Average predicted vessel pixels (from visualised samples): 1238.44\n"
          ]
        },
        {
          "output_type": "stream",
          "name": "stderr",
          "text": [
            "Training: 100%|██████████| 22/22 [00:33<00:00,  1.50s/it]\n",
            "Validation: 100%|██████████| 11/11 [00:16<00:00,  1.54s/it]\n"
          ]
        },
        {
          "output_type": "stream",
          "name": "stdout",
          "text": [
            "Epoch 9/30 - Train Loss: 1.1062, Val Loss: 1.7893, Dice: 45.86%\n",
            "[Fold 2 | Epoch 9] Average predicted vessel pixels (from visualised samples): 611.33\n",
            "[Fold 2 | Epoch 9] Average predicted vessel pixels (from visualised samples): 231.33\n"
          ]
        },
        {
          "output_type": "stream",
          "name": "stderr",
          "text": [
            "Training: 100%|██████████| 22/22 [00:33<00:00,  1.51s/it]\n",
            "Validation: 100%|██████████| 11/11 [00:16<00:00,  1.54s/it]\n"
          ]
        },
        {
          "output_type": "stream",
          "name": "stdout",
          "text": [
            "Epoch 10/30 - Train Loss: 1.0884, Val Loss: 1.6079, Dice: 55.43%\n",
            "[Fold 2 | Epoch 10] Average predicted vessel pixels (from visualised samples): 2466.22\n",
            "[Fold 2 | Epoch 10] Average predicted vessel pixels (from visualised samples): 1948.11\n"
          ]
        },
        {
          "output_type": "stream",
          "name": "stderr",
          "text": [
            "Training: 100%|██████████| 22/22 [00:32<00:00,  1.50s/it]\n",
            "Validation: 100%|██████████| 11/11 [00:16<00:00,  1.54s/it]\n"
          ]
        },
        {
          "output_type": "stream",
          "name": "stdout",
          "text": [
            "Epoch 11/30 - Train Loss: 1.0343, Val Loss: 1.7349, Dice: 39.62%\n",
            "[Fold 2 | Epoch 11] Average predicted vessel pixels (from visualised samples): 3596.11\n",
            "[Fold 2 | Epoch 11] Average predicted vessel pixels (from visualised samples): 1469.89\n"
          ]
        },
        {
          "output_type": "stream",
          "name": "stderr",
          "text": [
            "Training: 100%|██████████| 22/22 [00:33<00:00,  1.50s/it]\n",
            "Validation: 100%|██████████| 11/11 [00:16<00:00,  1.54s/it]\n"
          ]
        },
        {
          "output_type": "stream",
          "name": "stdout",
          "text": [
            "Epoch 12/30 - Train Loss: 1.0673, Val Loss: 1.7155, Dice: 51.95%\n",
            "[Fold 2 | Epoch 12] Average predicted vessel pixels (from visualised samples): 1612.67\n",
            "[Fold 2 | Epoch 12] Average predicted vessel pixels (from visualised samples): 16.56\n"
          ]
        },
        {
          "output_type": "stream",
          "name": "stderr",
          "text": [
            "Training: 100%|██████████| 22/22 [00:33<00:00,  1.51s/it]\n",
            "Validation: 100%|██████████| 11/11 [00:17<00:00,  1.55s/it]\n"
          ]
        },
        {
          "output_type": "stream",
          "name": "stdout",
          "text": [
            "Epoch 13/30 - Train Loss: 1.0718, Val Loss: 1.6727, Dice: 45.44%\n",
            "[Fold 2 | Epoch 13] Average predicted vessel pixels (from visualised samples): 3197.00\n",
            "[Fold 2 | Epoch 13] Average predicted vessel pixels (from visualised samples): 1369.33\n"
          ]
        },
        {
          "output_type": "stream",
          "name": "stderr",
          "text": [
            "Training: 100%|██████████| 22/22 [00:33<00:00,  1.52s/it]\n",
            "Validation: 100%|██████████| 11/11 [00:16<00:00,  1.53s/it]\n"
          ]
        },
        {
          "output_type": "stream",
          "name": "stdout",
          "text": [
            "Epoch 14/30 - Train Loss: 1.0248, Val Loss: 1.7295, Dice: 59.58%\n",
            "[Fold 2 | Epoch 14] Average predicted vessel pixels (from visualised samples): 1240.00\n",
            "[Fold 2 | Epoch 14] Average predicted vessel pixels (from visualised samples): 189.00\n"
          ]
        },
        {
          "output_type": "stream",
          "name": "stderr",
          "text": [
            "Training: 100%|██████████| 22/22 [00:33<00:00,  1.52s/it]\n",
            "Validation: 100%|██████████| 11/11 [00:16<00:00,  1.53s/it]\n"
          ]
        },
        {
          "output_type": "stream",
          "name": "stdout",
          "text": [
            "Epoch 15/30 - Train Loss: 1.0293, Val Loss: 1.6369, Dice: 56.34%\n",
            "[Fold 2 | Epoch 15] Average predicted vessel pixels (from visualised samples): 2185.33\n",
            "[Fold 2 | Epoch 15] Average predicted vessel pixels (from visualised samples): 449.89\n"
          ]
        },
        {
          "output_type": "stream",
          "name": "stderr",
          "text": [
            "Training: 100%|██████████| 22/22 [00:33<00:00,  1.53s/it]\n",
            "Validation: 100%|██████████| 11/11 [00:16<00:00,  1.53s/it]\n"
          ]
        },
        {
          "output_type": "stream",
          "name": "stdout",
          "text": [
            "Epoch 16/30 - Train Loss: 0.9459, Val Loss: 1.7307, Dice: 56.62%\n",
            "[Fold 2 | Epoch 16] Average predicted vessel pixels (from visualised samples): 2143.89\n",
            "[Fold 2 | Epoch 16] Average predicted vessel pixels (from visualised samples): 179.22\n"
          ]
        },
        {
          "output_type": "stream",
          "name": "stderr",
          "text": [
            "Training: 100%|██████████| 22/22 [00:33<00:00,  1.51s/it]\n",
            "Validation: 100%|██████████| 11/11 [00:16<00:00,  1.53s/it]\n"
          ]
        },
        {
          "output_type": "stream",
          "name": "stdout",
          "text": [
            "Epoch 17/30 - Train Loss: 1.0432, Val Loss: 1.7099, Dice: 43.30%\n",
            "[Fold 2 | Epoch 17] Average predicted vessel pixels (from visualised samples): 1751.44\n",
            "[Fold 2 | Epoch 17] Average predicted vessel pixels (from visualised samples): 222.00\n"
          ]
        },
        {
          "output_type": "stream",
          "name": "stderr",
          "text": [
            "Training: 100%|██████████| 22/22 [00:33<00:00,  1.52s/it]\n",
            "Validation: 100%|██████████| 11/11 [00:16<00:00,  1.52s/it]\n"
          ]
        },
        {
          "output_type": "stream",
          "name": "stdout",
          "text": [
            "Epoch 18/30 - Train Loss: 0.9614, Val Loss: 1.5919, Dice: 62.88%\n",
            "[Fold 2 | Epoch 18] Average predicted vessel pixels (from visualised samples): 1942.11\n",
            "[Fold 2 | Epoch 18] Average predicted vessel pixels (from visualised samples): 101.11\n"
          ]
        },
        {
          "output_type": "stream",
          "name": "stderr",
          "text": [
            "Training: 100%|██████████| 22/22 [00:33<00:00,  1.52s/it]\n",
            "Validation: 100%|██████████| 11/11 [00:16<00:00,  1.54s/it]\n"
          ]
        },
        {
          "output_type": "stream",
          "name": "stdout",
          "text": [
            "Epoch 19/30 - Train Loss: 0.9805, Val Loss: 1.5330, Dice: 62.62%\n",
            "[Fold 2 | Epoch 19] Average predicted vessel pixels (from visualised samples): 2382.78\n",
            "[Fold 2 | Epoch 19] Average predicted vessel pixels (from visualised samples): 188.44\n"
          ]
        },
        {
          "output_type": "stream",
          "name": "stderr",
          "text": [
            "Training: 100%|██████████| 22/22 [00:33<00:00,  1.50s/it]\n",
            "Validation: 100%|██████████| 11/11 [00:17<00:00,  1.57s/it]\n"
          ]
        },
        {
          "output_type": "stream",
          "name": "stdout",
          "text": [
            "Epoch 20/30 - Train Loss: 0.9117, Val Loss: 1.6951, Dice: 65.38%\n",
            "[Fold 2 | Epoch 20] Average predicted vessel pixels (from visualised samples): 1888.33\n",
            "[Fold 2 | Epoch 20] Average predicted vessel pixels (from visualised samples): 31.67\n"
          ]
        },
        {
          "output_type": "stream",
          "name": "stderr",
          "text": [
            "Training: 100%|██████████| 22/22 [00:33<00:00,  1.53s/it]\n",
            "Validation: 100%|██████████| 11/11 [00:16<00:00,  1.53s/it]\n"
          ]
        },
        {
          "output_type": "stream",
          "name": "stdout",
          "text": [
            "Epoch 21/30 - Train Loss: 0.8950, Val Loss: 1.6469, Dice: 61.21%\n",
            "[Fold 2 | Epoch 21] Average predicted vessel pixels (from visualised samples): 2058.56\n",
            "[Fold 2 | Epoch 21] Average predicted vessel pixels (from visualised samples): 61.67\n"
          ]
        },
        {
          "output_type": "stream",
          "name": "stderr",
          "text": [
            "Training: 100%|██████████| 22/22 [00:33<00:00,  1.52s/it]\n",
            "Validation: 100%|██████████| 11/11 [00:16<00:00,  1.53s/it]\n"
          ]
        },
        {
          "output_type": "stream",
          "name": "stdout",
          "text": [
            "Epoch 22/30 - Train Loss: 0.9796, Val Loss: 1.5500, Dice: 58.70%\n",
            "[Fold 2 | Epoch 22] Average predicted vessel pixels (from visualised samples): 1607.44\n",
            "[Fold 2 | Epoch 22] Average predicted vessel pixels (from visualised samples): 112.44\n"
          ]
        },
        {
          "output_type": "stream",
          "name": "stderr",
          "text": [
            "Training: 100%|██████████| 22/22 [00:33<00:00,  1.51s/it]\n",
            "Validation: 100%|██████████| 11/11 [00:16<00:00,  1.53s/it]\n"
          ]
        },
        {
          "output_type": "stream",
          "name": "stdout",
          "text": [
            "Epoch 23/30 - Train Loss: 0.9129, Val Loss: 1.6040, Dice: 63.50%\n",
            "[Fold 2 | Epoch 23] Average predicted vessel pixels (from visualised samples): 1515.56\n",
            "[Fold 2 | Epoch 23] Average predicted vessel pixels (from visualised samples): 24.00\n"
          ]
        },
        {
          "output_type": "stream",
          "name": "stderr",
          "text": [
            "Training: 100%|██████████| 22/22 [00:33<00:00,  1.52s/it]\n",
            "Validation: 100%|██████████| 11/11 [00:16<00:00,  1.53s/it]\n"
          ]
        },
        {
          "output_type": "stream",
          "name": "stdout",
          "text": [
            "Epoch 24/30 - Train Loss: 0.9159, Val Loss: 1.5497, Dice: 58.80%\n",
            "[Fold 2 | Epoch 24] Average predicted vessel pixels (from visualised samples): 1993.22\n",
            "[Fold 2 | Epoch 24] Average predicted vessel pixels (from visualised samples): 59.33\n"
          ]
        },
        {
          "output_type": "stream",
          "name": "stderr",
          "text": [
            "Training: 100%|██████████| 22/22 [00:33<00:00,  1.51s/it]\n",
            "Validation: 100%|██████████| 11/11 [00:16<00:00,  1.53s/it]\n"
          ]
        },
        {
          "output_type": "stream",
          "name": "stdout",
          "text": [
            "Epoch 25/30 - Train Loss: 0.8917, Val Loss: 1.6590, Dice: 65.14%\n",
            "[Fold 2 | Epoch 25] Average predicted vessel pixels (from visualised samples): 1668.33\n",
            "[Fold 2 | Epoch 25] Average predicted vessel pixels (from visualised samples): 24.56\n"
          ]
        },
        {
          "output_type": "stream",
          "name": "stderr",
          "text": [
            "Training: 100%|██████████| 22/22 [00:33<00:00,  1.51s/it]\n",
            "Validation: 100%|██████████| 11/11 [00:16<00:00,  1.54s/it]\n"
          ]
        },
        {
          "output_type": "stream",
          "name": "stdout",
          "text": [
            "Epoch 26/30 - Train Loss: 0.9004, Val Loss: 1.5302, Dice: 64.55%\n",
            "[Fold 2 | Epoch 26] Average predicted vessel pixels (from visualised samples): 2169.78\n",
            "[Fold 2 | Epoch 26] Average predicted vessel pixels (from visualised samples): 19.22\n"
          ]
        },
        {
          "output_type": "stream",
          "name": "stderr",
          "text": [
            "Training: 100%|██████████| 22/22 [00:33<00:00,  1.52s/it]\n",
            "Validation: 100%|██████████| 11/11 [00:16<00:00,  1.53s/it]\n"
          ]
        },
        {
          "output_type": "stream",
          "name": "stdout",
          "text": [
            "Epoch 27/30 - Train Loss: 0.9080, Val Loss: 1.6206, Dice: 62.05%\n",
            "[Fold 2 | Epoch 27] Average predicted vessel pixels (from visualised samples): 1704.56\n",
            "[Fold 2 | Epoch 27] Average predicted vessel pixels (from visualised samples): 16.78\n"
          ]
        },
        {
          "output_type": "stream",
          "name": "stderr",
          "text": [
            "Training: 100%|██████████| 22/22 [00:33<00:00,  1.52s/it]\n",
            "Validation: 100%|██████████| 11/11 [00:16<00:00,  1.54s/it]\n"
          ]
        },
        {
          "output_type": "stream",
          "name": "stdout",
          "text": [
            "Epoch 28/30 - Train Loss: 0.9646, Val Loss: 1.5719, Dice: 51.79%\n",
            "[Fold 2 | Epoch 28] Average predicted vessel pixels (from visualised samples): 1950.67\n",
            "[Fold 2 | Epoch 28] Average predicted vessel pixels (from visualised samples): 42.78\n"
          ]
        },
        {
          "output_type": "stream",
          "name": "stderr",
          "text": [
            "Training: 100%|██████████| 22/22 [00:33<00:00,  1.51s/it]\n",
            "Validation: 100%|██████████| 11/11 [00:16<00:00,  1.54s/it]\n"
          ]
        },
        {
          "output_type": "stream",
          "name": "stdout",
          "text": [
            "Epoch 29/30 - Train Loss: 0.8786, Val Loss: 1.5368, Dice: 54.42%\n",
            "[Fold 2 | Epoch 29] Average predicted vessel pixels (from visualised samples): 1911.67\n",
            "[Fold 2 | Epoch 29] Average predicted vessel pixels (from visualised samples): 28.56\n"
          ]
        },
        {
          "output_type": "stream",
          "name": "stderr",
          "text": [
            "Training: 100%|██████████| 22/22 [00:33<00:00,  1.52s/it]\n",
            "Validation: 100%|██████████| 11/11 [00:17<00:00,  1.56s/it]\n"
          ]
        },
        {
          "output_type": "stream",
          "name": "stdout",
          "text": [
            "Epoch 30/30 - Train Loss: 0.9104, Val Loss: 1.6300, Dice: 49.79%\n",
            "[Fold 2 | Epoch 30] Average predicted vessel pixels (from visualised samples): 1506.22\n",
            "[Fold 2 | Epoch 30] Average predicted vessel pixels (from visualised samples): 39.33\n",
            "Fold 3\n"
          ]
        },
        {
          "output_type": "stream",
          "name": "stderr",
          "text": [
            "Training: 100%|██████████| 22/22 [00:33<00:00,  1.54s/it]\n",
            "Validation: 100%|██████████| 11/11 [00:16<00:00,  1.53s/it]\n"
          ]
        },
        {
          "output_type": "stream",
          "name": "stdout",
          "text": [
            "Epoch 1/30 - Train Loss: 2.2340, Val Loss: 1.9498, Dice: 19.78%\n",
            "[Fold 3 | Epoch 1] Average predicted vessel pixels (from visualised samples): 8681.67\n",
            "[Fold 3 | Epoch 1] Average predicted vessel pixels (from visualised samples): 8098.44\n"
          ]
        },
        {
          "output_type": "stream",
          "name": "stderr",
          "text": [
            "Training: 100%|██████████| 22/22 [00:33<00:00,  1.51s/it]\n",
            "Validation: 100%|██████████| 11/11 [00:16<00:00,  1.54s/it]\n"
          ]
        },
        {
          "output_type": "stream",
          "name": "stdout",
          "text": [
            "Epoch 2/30 - Train Loss: 1.8218, Val Loss: 1.7122, Dice: 79.34%\n",
            "[Fold 3 | Epoch 2] Average predicted vessel pixels (from visualised samples): 5462.56\n",
            "[Fold 3 | Epoch 2] Average predicted vessel pixels (from visualised samples): 5462.22\n"
          ]
        },
        {
          "output_type": "stream",
          "name": "stderr",
          "text": [
            "Training: 100%|██████████| 22/22 [00:33<00:00,  1.51s/it]\n",
            "Validation: 100%|██████████| 11/11 [00:16<00:00,  1.53s/it]\n"
          ]
        },
        {
          "output_type": "stream",
          "name": "stdout",
          "text": [
            "Epoch 3/30 - Train Loss: 1.6969, Val Loss: 1.6826, Dice: 54.53%\n",
            "[Fold 3 | Epoch 3] Average predicted vessel pixels (from visualised samples): 5454.22\n",
            "[Fold 3 | Epoch 3] Average predicted vessel pixels (from visualised samples): 5458.11\n"
          ]
        },
        {
          "output_type": "stream",
          "name": "stderr",
          "text": [
            "Training: 100%|██████████| 22/22 [00:33<00:00,  1.52s/it]\n",
            "Validation: 100%|██████████| 11/11 [00:16<00:00,  1.54s/it]\n"
          ]
        },
        {
          "output_type": "stream",
          "name": "stdout",
          "text": [
            "Epoch 4/30 - Train Loss: 1.5599, Val Loss: 1.6114, Dice: 69.03%\n",
            "[Fold 3 | Epoch 4] Average predicted vessel pixels (from visualised samples): 181.33\n",
            "[Fold 3 | Epoch 4] Average predicted vessel pixels (from visualised samples): 260.22\n"
          ]
        },
        {
          "output_type": "stream",
          "name": "stderr",
          "text": [
            "Training: 100%|██████████| 22/22 [00:33<00:00,  1.51s/it]\n",
            "Validation: 100%|██████████| 11/11 [00:16<00:00,  1.54s/it]\n"
          ]
        },
        {
          "output_type": "stream",
          "name": "stdout",
          "text": [
            "Epoch 5/30 - Train Loss: 1.4404, Val Loss: 1.6018, Dice: 69.46%\n",
            "[Fold 3 | Epoch 5] Average predicted vessel pixels (from visualised samples): 87.00\n",
            "[Fold 3 | Epoch 5] Average predicted vessel pixels (from visualised samples): 86.56\n"
          ]
        },
        {
          "output_type": "stream",
          "name": "stderr",
          "text": [
            "Training: 100%|██████████| 22/22 [00:33<00:00,  1.52s/it]\n",
            "Validation: 100%|██████████| 11/11 [00:17<00:00,  1.56s/it]\n"
          ]
        },
        {
          "output_type": "stream",
          "name": "stdout",
          "text": [
            "Epoch 6/30 - Train Loss: 1.3946, Val Loss: 1.4718, Dice: 55.00%\n",
            "[Fold 3 | Epoch 6] Average predicted vessel pixels (from visualised samples): 385.56\n",
            "[Fold 3 | Epoch 6] Average predicted vessel pixels (from visualised samples): 6.44\n"
          ]
        },
        {
          "output_type": "stream",
          "name": "stderr",
          "text": [
            "Training: 100%|██████████| 22/22 [00:33<00:00,  1.54s/it]\n",
            "Validation: 100%|██████████| 11/11 [00:16<00:00,  1.53s/it]\n"
          ]
        },
        {
          "output_type": "stream",
          "name": "stdout",
          "text": [
            "Epoch 7/30 - Train Loss: 1.3226, Val Loss: 1.4029, Dice: 43.55%\n",
            "[Fold 3 | Epoch 7] Average predicted vessel pixels (from visualised samples): 937.33\n",
            "[Fold 3 | Epoch 7] Average predicted vessel pixels (from visualised samples): 490.78\n"
          ]
        },
        {
          "output_type": "stream",
          "name": "stderr",
          "text": [
            "Training: 100%|██████████| 22/22 [00:33<00:00,  1.52s/it]\n",
            "Validation: 100%|██████████| 11/11 [00:17<00:00,  1.56s/it]\n"
          ]
        },
        {
          "output_type": "stream",
          "name": "stdout",
          "text": [
            "Epoch 8/30 - Train Loss: 1.2423, Val Loss: 1.4180, Dice: 42.26%\n",
            "[Fold 3 | Epoch 8] Average predicted vessel pixels (from visualised samples): 1404.89\n",
            "[Fold 3 | Epoch 8] Average predicted vessel pixels (from visualised samples): 1036.56\n"
          ]
        },
        {
          "output_type": "stream",
          "name": "stderr",
          "text": [
            "Training: 100%|██████████| 22/22 [00:33<00:00,  1.53s/it]\n",
            "Validation: 100%|██████████| 11/11 [00:16<00:00,  1.53s/it]\n"
          ]
        },
        {
          "output_type": "stream",
          "name": "stdout",
          "text": [
            "Epoch 9/30 - Train Loss: 1.1901, Val Loss: 1.4499, Dice: 31.39%\n",
            "[Fold 3 | Epoch 9] Average predicted vessel pixels (from visualised samples): 2293.11\n",
            "[Fold 3 | Epoch 9] Average predicted vessel pixels (from visualised samples): 2823.33\n"
          ]
        },
        {
          "output_type": "stream",
          "name": "stderr",
          "text": [
            "Training: 100%|██████████| 22/22 [00:33<00:00,  1.52s/it]\n",
            "Validation: 100%|██████████| 11/11 [00:16<00:00,  1.52s/it]\n"
          ]
        },
        {
          "output_type": "stream",
          "name": "stdout",
          "text": [
            "Epoch 10/30 - Train Loss: 1.1856, Val Loss: 1.4356, Dice: 59.73%\n",
            "[Fold 3 | Epoch 10] Average predicted vessel pixels (from visualised samples): 333.78\n",
            "[Fold 3 | Epoch 10] Average predicted vessel pixels (from visualised samples): 100.56\n"
          ]
        },
        {
          "output_type": "stream",
          "name": "stderr",
          "text": [
            "Training: 100%|██████████| 22/22 [00:33<00:00,  1.53s/it]\n",
            "Validation: 100%|██████████| 11/11 [00:17<00:00,  1.55s/it]\n"
          ]
        },
        {
          "output_type": "stream",
          "name": "stdout",
          "text": [
            "Epoch 11/30 - Train Loss: 1.1143, Val Loss: 1.5430, Dice: 58.80%\n",
            "[Fold 3 | Epoch 11] Average predicted vessel pixels (from visualised samples): 578.89\n",
            "[Fold 3 | Epoch 11] Average predicted vessel pixels (from visualised samples): 631.89\n"
          ]
        },
        {
          "output_type": "stream",
          "name": "stderr",
          "text": [
            "Training: 100%|██████████| 22/22 [00:33<00:00,  1.51s/it]\n",
            "Validation: 100%|██████████| 11/11 [00:16<00:00,  1.54s/it]\n"
          ]
        },
        {
          "output_type": "stream",
          "name": "stdout",
          "text": [
            "Epoch 12/30 - Train Loss: 1.1184, Val Loss: 1.3382, Dice: 49.80%\n",
            "[Fold 3 | Epoch 12] Average predicted vessel pixels (from visualised samples): 1505.22\n",
            "[Fold 3 | Epoch 12] Average predicted vessel pixels (from visualised samples): 794.00\n"
          ]
        },
        {
          "output_type": "stream",
          "name": "stderr",
          "text": [
            "Training: 100%|██████████| 22/22 [00:33<00:00,  1.54s/it]\n",
            "Validation: 100%|██████████| 11/11 [00:16<00:00,  1.53s/it]\n"
          ]
        },
        {
          "output_type": "stream",
          "name": "stdout",
          "text": [
            "Epoch 13/30 - Train Loss: 1.0799, Val Loss: 1.3925, Dice: 58.82%\n",
            "[Fold 3 | Epoch 13] Average predicted vessel pixels (from visualised samples): 895.89\n",
            "[Fold 3 | Epoch 13] Average predicted vessel pixels (from visualised samples): 340.11\n"
          ]
        },
        {
          "output_type": "stream",
          "name": "stderr",
          "text": [
            "Training: 100%|██████████| 22/22 [00:33<00:00,  1.52s/it]\n",
            "Validation: 100%|██████████| 11/11 [00:17<00:00,  1.55s/it]\n"
          ]
        },
        {
          "output_type": "stream",
          "name": "stdout",
          "text": [
            "Epoch 14/30 - Train Loss: 1.0674, Val Loss: 1.3588, Dice: 62.03%\n",
            "[Fold 3 | Epoch 14] Average predicted vessel pixels (from visualised samples): 392.11\n",
            "[Fold 3 | Epoch 14] Average predicted vessel pixels (from visualised samples): 431.44\n"
          ]
        },
        {
          "output_type": "stream",
          "name": "stderr",
          "text": [
            "Training: 100%|██████████| 22/22 [00:32<00:00,  1.49s/it]\n",
            "Validation: 100%|██████████| 11/11 [00:17<00:00,  1.57s/it]\n"
          ]
        },
        {
          "output_type": "stream",
          "name": "stdout",
          "text": [
            "Epoch 15/30 - Train Loss: 1.0260, Val Loss: 1.3286, Dice: 58.84%\n",
            "[Fold 3 | Epoch 15] Average predicted vessel pixels (from visualised samples): 1091.22\n",
            "[Fold 3 | Epoch 15] Average predicted vessel pixels (from visualised samples): 484.44\n"
          ]
        },
        {
          "output_type": "stream",
          "name": "stderr",
          "text": [
            "Training: 100%|██████████| 22/22 [00:33<00:00,  1.52s/it]\n",
            "Validation: 100%|██████████| 11/11 [00:16<00:00,  1.54s/it]\n"
          ]
        },
        {
          "output_type": "stream",
          "name": "stdout",
          "text": [
            "Epoch 16/30 - Train Loss: 1.0136, Val Loss: 1.4661, Dice: 65.05%\n",
            "[Fold 3 | Epoch 16] Average predicted vessel pixels (from visualised samples): 89.78\n",
            "[Fold 3 | Epoch 16] Average predicted vessel pixels (from visualised samples): 337.33\n"
          ]
        },
        {
          "output_type": "stream",
          "name": "stderr",
          "text": [
            "Training: 100%|██████████| 22/22 [00:33<00:00,  1.53s/it]\n",
            "Validation: 100%|██████████| 11/11 [00:17<00:00,  1.56s/it]\n"
          ]
        },
        {
          "output_type": "stream",
          "name": "stdout",
          "text": [
            "Epoch 17/30 - Train Loss: 1.0187, Val Loss: 1.4068, Dice: 71.81%\n",
            "[Fold 3 | Epoch 17] Average predicted vessel pixels (from visualised samples): 310.33\n",
            "[Fold 3 | Epoch 17] Average predicted vessel pixels (from visualised samples): 287.89\n"
          ]
        },
        {
          "output_type": "stream",
          "name": "stderr",
          "text": [
            "Training: 100%|██████████| 22/22 [00:33<00:00,  1.54s/it]\n",
            "Validation: 100%|██████████| 11/11 [00:17<00:00,  1.55s/it]\n"
          ]
        },
        {
          "output_type": "stream",
          "name": "stdout",
          "text": [
            "Epoch 18/30 - Train Loss: 0.9926, Val Loss: 1.3432, Dice: 64.23%\n",
            "[Fold 3 | Epoch 18] Average predicted vessel pixels (from visualised samples): 1306.89\n",
            "[Fold 3 | Epoch 18] Average predicted vessel pixels (from visualised samples): 542.78\n"
          ]
        },
        {
          "output_type": "stream",
          "name": "stderr",
          "text": [
            "Training: 100%|██████████| 22/22 [00:33<00:00,  1.51s/it]\n",
            "Validation: 100%|██████████| 11/11 [00:16<00:00,  1.54s/it]\n"
          ]
        },
        {
          "output_type": "stream",
          "name": "stdout",
          "text": [
            "Epoch 19/30 - Train Loss: 0.9935, Val Loss: 1.3542, Dice: 67.62%\n",
            "[Fold 3 | Epoch 19] Average predicted vessel pixels (from visualised samples): 376.00\n",
            "[Fold 3 | Epoch 19] Average predicted vessel pixels (from visualised samples): 411.67\n"
          ]
        },
        {
          "output_type": "stream",
          "name": "stderr",
          "text": [
            "Training: 100%|██████████| 22/22 [00:33<00:00,  1.54s/it]\n",
            "Validation: 100%|██████████| 11/11 [00:16<00:00,  1.54s/it]\n"
          ]
        },
        {
          "output_type": "stream",
          "name": "stdout",
          "text": [
            "Epoch 20/30 - Train Loss: 0.9934, Val Loss: 1.2907, Dice: 58.63%\n",
            "[Fold 3 | Epoch 20] Average predicted vessel pixels (from visualised samples): 803.00\n",
            "[Fold 3 | Epoch 20] Average predicted vessel pixels (from visualised samples): 794.22\n"
          ]
        },
        {
          "output_type": "stream",
          "name": "stderr",
          "text": [
            "Training: 100%|██████████| 22/22 [00:33<00:00,  1.54s/it]\n",
            "Validation: 100%|██████████| 11/11 [00:16<00:00,  1.54s/it]\n"
          ]
        },
        {
          "output_type": "stream",
          "name": "stdout",
          "text": [
            "Epoch 21/30 - Train Loss: 0.9523, Val Loss: 1.3564, Dice: 66.32%\n",
            "[Fold 3 | Epoch 21] Average predicted vessel pixels (from visualised samples): 389.78\n",
            "[Fold 3 | Epoch 21] Average predicted vessel pixels (from visualised samples): 358.44\n"
          ]
        },
        {
          "output_type": "stream",
          "name": "stderr",
          "text": [
            "Training: 100%|██████████| 22/22 [00:33<00:00,  1.54s/it]\n",
            "Validation: 100%|██████████| 11/11 [00:17<00:00,  1.56s/it]\n"
          ]
        },
        {
          "output_type": "stream",
          "name": "stdout",
          "text": [
            "Epoch 22/30 - Train Loss: 0.9366, Val Loss: 1.3510, Dice: 69.51%\n",
            "[Fold 3 | Epoch 22] Average predicted vessel pixels (from visualised samples): 976.22\n",
            "[Fold 3 | Epoch 22] Average predicted vessel pixels (from visualised samples): 521.89\n"
          ]
        },
        {
          "output_type": "stream",
          "name": "stderr",
          "text": [
            "Training: 100%|██████████| 22/22 [00:34<00:00,  1.55s/it]\n",
            "Validation: 100%|██████████| 11/11 [00:17<00:00,  1.55s/it]\n"
          ]
        },
        {
          "output_type": "stream",
          "name": "stdout",
          "text": [
            "Epoch 23/30 - Train Loss: 0.9354, Val Loss: 1.4237, Dice: 73.51%\n",
            "[Fold 3 | Epoch 23] Average predicted vessel pixels (from visualised samples): 710.33\n",
            "[Fold 3 | Epoch 23] Average predicted vessel pixels (from visualised samples): 366.22\n"
          ]
        },
        {
          "output_type": "stream",
          "name": "stderr",
          "text": [
            "Training: 100%|██████████| 22/22 [00:33<00:00,  1.52s/it]\n",
            "Validation: 100%|██████████| 11/11 [00:16<00:00,  1.53s/it]\n"
          ]
        },
        {
          "output_type": "stream",
          "name": "stdout",
          "text": [
            "Epoch 24/30 - Train Loss: 0.8886, Val Loss: 1.4233, Dice: 76.45%\n",
            "[Fold 3 | Epoch 24] Average predicted vessel pixels (from visualised samples): 1002.22\n",
            "[Fold 3 | Epoch 24] Average predicted vessel pixels (from visualised samples): 287.89\n"
          ]
        },
        {
          "output_type": "stream",
          "name": "stderr",
          "text": [
            "Training: 100%|██████████| 22/22 [00:33<00:00,  1.53s/it]\n",
            "Validation: 100%|██████████| 11/11 [00:17<00:00,  1.56s/it]\n"
          ]
        },
        {
          "output_type": "stream",
          "name": "stdout",
          "text": [
            "Epoch 25/30 - Train Loss: 0.9716, Val Loss: 1.3912, Dice: 62.43%\n",
            "[Fold 3 | Epoch 25] Average predicted vessel pixels (from visualised samples): 1581.22\n",
            "[Fold 3 | Epoch 25] Average predicted vessel pixels (from visualised samples): 388.33\n"
          ]
        },
        {
          "output_type": "stream",
          "name": "stderr",
          "text": [
            "Training: 100%|██████████| 22/22 [00:33<00:00,  1.50s/it]\n",
            "Validation: 100%|██████████| 11/11 [00:17<00:00,  1.57s/it]\n"
          ]
        },
        {
          "output_type": "stream",
          "name": "stdout",
          "text": [
            "Epoch 26/30 - Train Loss: 0.8904, Val Loss: 1.3959, Dice: 72.78%\n",
            "[Fold 3 | Epoch 26] Average predicted vessel pixels (from visualised samples): 824.56\n",
            "[Fold 3 | Epoch 26] Average predicted vessel pixels (from visualised samples): 245.33\n"
          ]
        },
        {
          "output_type": "stream",
          "name": "stderr",
          "text": [
            "Training: 100%|██████████| 22/22 [00:33<00:00,  1.51s/it]\n",
            "Validation: 100%|██████████| 11/11 [00:17<00:00,  1.55s/it]\n"
          ]
        },
        {
          "output_type": "stream",
          "name": "stdout",
          "text": [
            "Epoch 27/30 - Train Loss: 0.8585, Val Loss: 1.3956, Dice: 73.72%\n",
            "[Fold 3 | Epoch 27] Average predicted vessel pixels (from visualised samples): 526.11\n",
            "[Fold 3 | Epoch 27] Average predicted vessel pixels (from visualised samples): 272.00\n"
          ]
        },
        {
          "output_type": "stream",
          "name": "stderr",
          "text": [
            "Training: 100%|██████████| 22/22 [00:33<00:00,  1.53s/it]\n",
            "Validation: 100%|██████████| 11/11 [00:17<00:00,  1.55s/it]\n"
          ]
        },
        {
          "output_type": "stream",
          "name": "stdout",
          "text": [
            "Epoch 28/30 - Train Loss: 0.8709, Val Loss: 1.4184, Dice: 73.79%\n",
            "[Fold 3 | Epoch 28] Average predicted vessel pixels (from visualised samples): 752.67\n",
            "[Fold 3 | Epoch 28] Average predicted vessel pixels (from visualised samples): 289.00\n"
          ]
        },
        {
          "output_type": "stream",
          "name": "stderr",
          "text": [
            "Training: 100%|██████████| 22/22 [00:33<00:00,  1.53s/it]\n",
            "Validation: 100%|██████████| 11/11 [00:17<00:00,  1.57s/it]\n"
          ]
        },
        {
          "output_type": "stream",
          "name": "stdout",
          "text": [
            "Epoch 29/30 - Train Loss: 0.8770, Val Loss: 1.3875, Dice: 71.76%\n",
            "[Fold 3 | Epoch 29] Average predicted vessel pixels (from visualised samples): 581.78\n",
            "[Fold 3 | Epoch 29] Average predicted vessel pixels (from visualised samples): 371.22\n"
          ]
        },
        {
          "output_type": "stream",
          "name": "stderr",
          "text": [
            "Training: 100%|██████████| 22/22 [00:33<00:00,  1.52s/it]\n",
            "Validation: 100%|██████████| 11/11 [00:17<00:00,  1.55s/it]\n"
          ]
        },
        {
          "output_type": "stream",
          "name": "stdout",
          "text": [
            "Epoch 30/30 - Train Loss: 0.8590, Val Loss: 1.4137, Dice: 71.31%\n",
            "[Fold 3 | Epoch 30] Average predicted vessel pixels (from visualised samples): 485.22\n",
            "[Fold 3 | Epoch 30] Average predicted vessel pixels (from visualised samples): 305.78\n",
            "\n",
            "Average Dice across folds: 75.80%\n"
          ]
        },
        {
          "output_type": "stream",
          "name": "stderr",
          "text": [
            "Training: 100%|██████████| 1/1 [00:00<00:00,  1.34it/s]\n",
            "Validation: 100%|██████████| 1/1 [00:00<00:00,  1.58it/s]\n"
          ]
        },
        {
          "output_type": "stream",
          "name": "stdout",
          "text": [
            "Overfit Epoch 1: Train Loss=3.9259, Val Loss=17.0399, Dice=-1.00%\n",
            "[Fold 0 | Epoch 1] Average predicted vessel pixels (from visualised samples): 17.67\n"
          ]
        },
        {
          "output_type": "stream",
          "name": "stderr",
          "text": [
            "Training: 100%|██████████| 1/1 [00:00<00:00,  1.46it/s]\n",
            "Validation: 100%|██████████| 1/1 [00:00<00:00,  1.63it/s]\n"
          ]
        },
        {
          "output_type": "stream",
          "name": "stdout",
          "text": [
            "Overfit Epoch 2: Train Loss=3.7795, Val Loss=15.6661, Dice=-1.00%\n",
            "[Fold 0 | Epoch 2] Average predicted vessel pixels (from visualised samples): 63.00\n"
          ]
        },
        {
          "output_type": "stream",
          "name": "stderr",
          "text": [
            "Training: 100%|██████████| 1/1 [00:00<00:00,  1.49it/s]\n",
            "Validation: 100%|██████████| 1/1 [00:00<00:00,  1.57it/s]\n"
          ]
        },
        {
          "output_type": "stream",
          "name": "stdout",
          "text": [
            "Overfit Epoch 3: Train Loss=2.9971, Val Loss=10.7186, Dice=-1.00%\n",
            "[Fold 0 | Epoch 3] Average predicted vessel pixels (from visualised samples): 161.33\n"
          ]
        },
        {
          "output_type": "stream",
          "name": "stderr",
          "text": [
            "Training: 100%|██████████| 1/1 [00:00<00:00,  1.41it/s]\n",
            "Validation: 100%|██████████| 1/1 [00:00<00:00,  1.61it/s]\n"
          ]
        },
        {
          "output_type": "stream",
          "name": "stdout",
          "text": [
            "Overfit Epoch 4: Train Loss=3.3138, Val Loss=6.4293, Dice=1.62%\n",
            "[Fold 0 | Epoch 4] Average predicted vessel pixels (from visualised samples): 210.67\n"
          ]
        },
        {
          "output_type": "stream",
          "name": "stderr",
          "text": [
            "Training: 100%|██████████| 1/1 [00:00<00:00,  1.47it/s]\n",
            "Validation: 100%|██████████| 1/1 [00:00<00:00,  1.60it/s]\n"
          ]
        },
        {
          "output_type": "stream",
          "name": "stdout",
          "text": [
            "Overfit Epoch 5: Train Loss=3.2471, Val Loss=4.4796, Dice=10.58%\n",
            "[Fold 0 | Epoch 5] Average predicted vessel pixels (from visualised samples): 375.67\n"
          ]
        },
        {
          "output_type": "stream",
          "name": "stderr",
          "text": [
            "Training: 100%|██████████| 1/1 [00:00<00:00,  1.51it/s]\n",
            "Validation: 100%|██████████| 1/1 [00:00<00:00,  1.63it/s]\n"
          ]
        },
        {
          "output_type": "stream",
          "name": "stdout",
          "text": [
            "Overfit Epoch 6: Train Loss=3.5238, Val Loss=2.6850, Dice=56.59%\n",
            "[Fold 0 | Epoch 6] Average predicted vessel pixels (from visualised samples): 1352.00\n"
          ]
        },
        {
          "output_type": "stream",
          "name": "stderr",
          "text": [
            "Training: 100%|██████████| 1/1 [00:00<00:00,  1.45it/s]\n",
            "Validation: 100%|██████████| 1/1 [00:00<00:00,  1.64it/s]\n"
          ]
        },
        {
          "output_type": "stream",
          "name": "stdout",
          "text": [
            "Overfit Epoch 7: Train Loss=3.2136, Val Loss=3.4332, Dice=46.27%\n",
            "[Fold 0 | Epoch 7] Average predicted vessel pixels (from visualised samples): 2525.33\n"
          ]
        },
        {
          "output_type": "stream",
          "name": "stderr",
          "text": [
            "Training: 100%|██████████| 1/1 [00:00<00:00,  1.42it/s]\n",
            "Validation: 100%|██████████| 1/1 [00:00<00:00,  1.59it/s]\n"
          ]
        },
        {
          "output_type": "stream",
          "name": "stdout",
          "text": [
            "Overfit Epoch 8: Train Loss=2.7650, Val Loss=2.5792, Dice=79.26%\n",
            "[Fold 0 | Epoch 8] Average predicted vessel pixels (from visualised samples): 5434.00\n"
          ]
        },
        {
          "output_type": "stream",
          "name": "stderr",
          "text": [
            "Training: 100%|██████████| 1/1 [00:00<00:00,  1.47it/s]\n",
            "Validation: 100%|██████████| 1/1 [00:00<00:00,  1.62it/s]\n"
          ]
        },
        {
          "output_type": "stream",
          "name": "stdout",
          "text": [
            "Overfit Epoch 9: Train Loss=2.5573, Val Loss=2.2809, Dice=58.16%\n",
            "[Fold 0 | Epoch 9] Average predicted vessel pixels (from visualised samples): 5618.67\n"
          ]
        },
        {
          "output_type": "stream",
          "name": "stderr",
          "text": [
            "Training: 100%|██████████| 1/1 [00:00<00:00,  1.47it/s]\n",
            "Validation: 100%|██████████| 1/1 [00:00<00:00,  1.61it/s]\n"
          ]
        },
        {
          "output_type": "stream",
          "name": "stdout",
          "text": [
            "Overfit Epoch 10: Train Loss=2.3901, Val Loss=1.7206, Dice=62.28%\n",
            "[Fold 0 | Epoch 10] Average predicted vessel pixels (from visualised samples): 7559.33\n"
          ]
        },
        {
          "output_type": "stream",
          "name": "stderr",
          "text": [
            "Training: 100%|██████████| 1/1 [00:00<00:00,  1.46it/s]\n",
            "Validation: 100%|██████████| 1/1 [00:00<00:00,  1.62it/s]\n"
          ]
        },
        {
          "output_type": "stream",
          "name": "stdout",
          "text": [
            "Overfit Epoch 11: Train Loss=2.3284, Val Loss=1.3439, Dice=58.48%\n",
            "[Fold 0 | Epoch 11] Average predicted vessel pixels (from visualised samples): 6792.67\n"
          ]
        },
        {
          "output_type": "stream",
          "name": "stderr",
          "text": [
            "Training: 100%|██████████| 1/1 [00:00<00:00,  1.47it/s]\n",
            "Validation: 100%|██████████| 1/1 [00:00<00:00,  1.54it/s]\n"
          ]
        },
        {
          "output_type": "stream",
          "name": "stdout",
          "text": [
            "Overfit Epoch 12: Train Loss=1.9490, Val Loss=2.4467, Dice=42.41%\n",
            "[Fold 0 | Epoch 12] Average predicted vessel pixels (from visualised samples): 9657.67\n"
          ]
        },
        {
          "output_type": "stream",
          "name": "stderr",
          "text": [
            "Training: 100%|██████████| 1/1 [00:00<00:00,  1.44it/s]\n",
            "Validation: 100%|██████████| 1/1 [00:00<00:00,  1.62it/s]\n"
          ]
        },
        {
          "output_type": "stream",
          "name": "stdout",
          "text": [
            "Overfit Epoch 13: Train Loss=1.7839, Val Loss=3.9268, Dice=42.51%\n",
            "[Fold 0 | Epoch 13] Average predicted vessel pixels (from visualised samples): 8042.33\n"
          ]
        },
        {
          "output_type": "stream",
          "name": "stderr",
          "text": [
            "Training: 100%|██████████| 1/1 [00:00<00:00,  1.48it/s]\n",
            "Validation: 100%|██████████| 1/1 [00:00<00:00,  1.58it/s]\n"
          ]
        },
        {
          "output_type": "stream",
          "name": "stdout",
          "text": [
            "Overfit Epoch 14: Train Loss=1.7306, Val Loss=2.0415, Dice=56.84%\n",
            "[Fold 0 | Epoch 14] Average predicted vessel pixels (from visualised samples): 7378.33\n"
          ]
        },
        {
          "output_type": "stream",
          "name": "stderr",
          "text": [
            "Training: 100%|██████████| 1/1 [00:00<00:00,  1.47it/s]\n",
            "Validation: 100%|██████████| 1/1 [00:00<00:00,  1.63it/s]\n"
          ]
        },
        {
          "output_type": "stream",
          "name": "stdout",
          "text": [
            "Overfit Epoch 15: Train Loss=1.5799, Val Loss=1.8102, Dice=58.27%\n",
            "[Fold 0 | Epoch 15] Average predicted vessel pixels (from visualised samples): 6107.67\n"
          ]
        },
        {
          "output_type": "stream",
          "name": "stderr",
          "text": [
            "Training: 100%|██████████| 1/1 [00:00<00:00,  1.46it/s]\n",
            "Validation: 100%|██████████| 1/1 [00:00<00:00,  1.56it/s]\n"
          ]
        },
        {
          "output_type": "stream",
          "name": "stdout",
          "text": [
            "Overfit Epoch 16: Train Loss=1.6946, Val Loss=1.7788, Dice=58.16%\n",
            "[Fold 0 | Epoch 16] Average predicted vessel pixels (from visualised samples): 6463.00\n"
          ]
        },
        {
          "output_type": "stream",
          "name": "stderr",
          "text": [
            "Training: 100%|██████████| 1/1 [00:00<00:00,  1.45it/s]\n",
            "Validation: 100%|██████████| 1/1 [00:00<00:00,  1.63it/s]\n"
          ]
        },
        {
          "output_type": "stream",
          "name": "stdout",
          "text": [
            "Overfit Epoch 17: Train Loss=1.4970, Val Loss=4.8451, Dice=33.41%\n",
            "[Fold 0 | Epoch 17] Average predicted vessel pixels (from visualised samples): 11024.33\n"
          ]
        },
        {
          "output_type": "stream",
          "name": "stderr",
          "text": [
            "Training: 100%|██████████| 1/1 [00:00<00:00,  1.49it/s]\n",
            "Validation: 100%|██████████| 1/1 [00:00<00:00,  1.58it/s]\n"
          ]
        },
        {
          "output_type": "stream",
          "name": "stdout",
          "text": [
            "Overfit Epoch 18: Train Loss=1.5242, Val Loss=5.5823, Dice=31.22%\n",
            "[Fold 0 | Epoch 18] Average predicted vessel pixels (from visualised samples): 7777.67\n"
          ]
        },
        {
          "output_type": "stream",
          "name": "stderr",
          "text": [
            "Training: 100%|██████████| 1/1 [00:00<00:00,  1.46it/s]\n",
            "Validation: 100%|██████████| 1/1 [00:00<00:00,  1.61it/s]\n"
          ]
        },
        {
          "output_type": "stream",
          "name": "stdout",
          "text": [
            "Overfit Epoch 19: Train Loss=1.3870, Val Loss=2.5883, Dice=52.10%\n",
            "[Fold 0 | Epoch 19] Average predicted vessel pixels (from visualised samples): 6983.67\n"
          ]
        },
        {
          "output_type": "stream",
          "name": "stderr",
          "text": [
            "Training: 100%|██████████| 1/1 [00:00<00:00,  1.43it/s]\n",
            "Validation: 100%|██████████| 1/1 [00:00<00:00,  1.58it/s]\n"
          ]
        },
        {
          "output_type": "stream",
          "name": "stdout",
          "text": [
            "Overfit Epoch 20: Train Loss=1.3953, Val Loss=3.0291, Dice=48.95%\n",
            "[Fold 0 | Epoch 20] Average predicted vessel pixels (from visualised samples): 13118.67\n"
          ]
        },
        {
          "output_type": "stream",
          "name": "stderr",
          "text": [
            "Training: 100%|██████████| 1/1 [00:00<00:00,  1.48it/s]\n",
            "Validation: 100%|██████████| 1/1 [00:00<00:00,  1.56it/s]\n"
          ]
        },
        {
          "output_type": "stream",
          "name": "stdout",
          "text": [
            "Overfit Epoch 21: Train Loss=1.3370, Val Loss=2.2600, Dice=56.44%\n",
            "[Fold 0 | Epoch 21] Average predicted vessel pixels (from visualised samples): 11782.67\n"
          ]
        },
        {
          "output_type": "stream",
          "name": "stderr",
          "text": [
            "Training: 100%|██████████| 1/1 [00:00<00:00,  1.49it/s]\n",
            "Validation: 100%|██████████| 1/1 [00:00<00:00,  1.58it/s]\n"
          ]
        },
        {
          "output_type": "stream",
          "name": "stdout",
          "text": [
            "Overfit Epoch 22: Train Loss=1.3776, Val Loss=2.2289, Dice=55.38%\n",
            "[Fold 0 | Epoch 22] Average predicted vessel pixels (from visualised samples): 8079.00\n"
          ]
        },
        {
          "output_type": "stream",
          "name": "stderr",
          "text": [
            "Training: 100%|██████████| 1/1 [00:00<00:00,  1.50it/s]\n",
            "Validation: 100%|██████████| 1/1 [00:00<00:00,  1.62it/s]\n"
          ]
        },
        {
          "output_type": "stream",
          "name": "stdout",
          "text": [
            "Overfit Epoch 23: Train Loss=1.3007, Val Loss=2.6482, Dice=52.24%\n",
            "[Fold 0 | Epoch 23] Average predicted vessel pixels (from visualised samples): 11866.33\n"
          ]
        },
        {
          "output_type": "stream",
          "name": "stderr",
          "text": [
            "Training: 100%|██████████| 1/1 [00:00<00:00,  1.47it/s]\n",
            "Validation: 100%|██████████| 1/1 [00:00<00:00,  1.63it/s]\n"
          ]
        },
        {
          "output_type": "stream",
          "name": "stdout",
          "text": [
            "Overfit Epoch 24: Train Loss=1.2515, Val Loss=2.4617, Dice=54.48%\n",
            "[Fold 0 | Epoch 24] Average predicted vessel pixels (from visualised samples): 10381.33\n"
          ]
        },
        {
          "output_type": "stream",
          "name": "stderr",
          "text": [
            "Training: 100%|██████████| 1/1 [00:00<00:00,  1.48it/s]\n",
            "Validation: 100%|██████████| 1/1 [00:00<00:00,  1.58it/s]\n"
          ]
        },
        {
          "output_type": "stream",
          "name": "stdout",
          "text": [
            "Overfit Epoch 25: Train Loss=1.1869, Val Loss=3.8547, Dice=43.33%\n",
            "[Fold 0 | Epoch 25] Average predicted vessel pixels (from visualised samples): 10541.33\n"
          ]
        },
        {
          "output_type": "stream",
          "name": "stderr",
          "text": [
            "Training: 100%|██████████| 1/1 [00:00<00:00,  1.47it/s]\n",
            "Validation: 100%|██████████| 1/1 [00:00<00:00,  1.63it/s]\n"
          ]
        },
        {
          "output_type": "stream",
          "name": "stdout",
          "text": [
            "Overfit Epoch 26: Train Loss=1.2674, Val Loss=2.4485, Dice=46.98%\n",
            "[Fold 0 | Epoch 26] Average predicted vessel pixels (from visualised samples): 10832.00\n"
          ]
        },
        {
          "output_type": "stream",
          "name": "stderr",
          "text": [
            "Training: 100%|██████████| 1/1 [00:00<00:00,  1.46it/s]\n",
            "Validation: 100%|██████████| 1/1 [00:00<00:00,  1.57it/s]\n"
          ]
        },
        {
          "output_type": "stream",
          "name": "stdout",
          "text": [
            "Overfit Epoch 27: Train Loss=1.2734, Val Loss=2.5866, Dice=43.50%\n",
            "[Fold 0 | Epoch 27] Average predicted vessel pixels (from visualised samples): 9451.33\n"
          ]
        },
        {
          "output_type": "stream",
          "name": "stderr",
          "text": [
            "Training: 100%|██████████| 1/1 [00:00<00:00,  1.49it/s]\n",
            "Validation: 100%|██████████| 1/1 [00:00<00:00,  1.64it/s]\n"
          ]
        },
        {
          "output_type": "stream",
          "name": "stdout",
          "text": [
            "Overfit Epoch 28: Train Loss=1.4137, Val Loss=2.5286, Dice=43.13%\n",
            "[Fold 0 | Epoch 28] Average predicted vessel pixels (from visualised samples): 8400.67\n"
          ]
        },
        {
          "output_type": "stream",
          "name": "stderr",
          "text": [
            "Training: 100%|██████████| 1/1 [00:00<00:00,  1.43it/s]\n",
            "Validation: 100%|██████████| 1/1 [00:00<00:00,  1.56it/s]\n"
          ]
        },
        {
          "output_type": "stream",
          "name": "stdout",
          "text": [
            "Overfit Epoch 29: Train Loss=1.1100, Val Loss=1.2282, Dice=76.34%\n",
            "[Fold 0 | Epoch 29] Average predicted vessel pixels (from visualised samples): 6386.67\n"
          ]
        },
        {
          "output_type": "stream",
          "name": "stderr",
          "text": [
            "Training: 100%|██████████| 1/1 [00:00<00:00,  1.48it/s]\n",
            "Validation: 100%|██████████| 1/1 [00:00<00:00,  1.65it/s]\n"
          ]
        },
        {
          "output_type": "stream",
          "name": "stdout",
          "text": [
            "Overfit Epoch 30: Train Loss=1.1229, Val Loss=1.1642, Dice=79.99%\n",
            "[Fold 0 | Epoch 30] Average predicted vessel pixels (from visualised samples): 6303.00\n"
          ]
        }
      ]
    },
    {
      "cell_type": "code",
      "source": [
        "def debug_overfit_one_sample():\n",
        "    import torch.nn as nn\n",
        "    device = torch.device('cuda' if torch.cuda.is_available() else 'cpu')\n",
        "\n",
        "    # Pick one good sample\n",
        "    sample_img_path = \"/content/drive/MyDrive/Task08_HepaticVessel/Resized_dataset/train/images/hepaticvessel_084.nii.gz\"\n",
        "    sample_lbl_path = \"/content/drive/MyDrive/Task08_HepaticVessel/Resized_dataset/train/labels/hepaticvessel_084.nii.gz\"\n",
        "\n",
        "    dataset = Nifti2_5DDataset([sample_img_path], [sample_lbl_path], transforms=train_transforms)\n",
        "    loader = DataLoader(dataset, batch_size=1, shuffle=True)\n",
        "\n",
        "    model = smp.Unet(\n",
        "        encoder_name='efficientnet-b3',\n",
        "        encoder_weights='imagenet',\n",
        "        in_channels=3,\n",
        "        classes=1\n",
        "    ).to(device)\n",
        "\n",
        "    optimizer = optim.AdamW(model.parameters(), lr=1e-3)\n",
        "    scheduler = optim.lr_scheduler.StepLR(optimizer, step_size=10, gamma=0.5)\n",
        "\n",
        "    best_dice = 0\n",
        "    for epoch in range(1, 51):\n",
        "        model.train()\n",
        "        total_loss = 0\n",
        "        for images, masks in loader:\n",
        "            images, masks = images.to(device), masks.to(device)\n",
        "            optimizer.zero_grad()\n",
        "            outputs = model(images)\n",
        "            loss = combined_loss(outputs, masks)\n",
        "            loss.backward()\n",
        "            optimizer.step()\n",
        "            total_loss += loss.item()\n",
        "\n",
        "        scheduler.step()\n",
        "\n",
        "        model.eval()\n",
        "        with torch.no_grad():\n",
        "            images, masks = next(iter(loader))\n",
        "            images, masks = images.to(device), masks.to(device)\n",
        "            outputs = torch.sigmoid(model(images))\n",
        "            preds = (outputs > 0.5).float()\n",
        "\n",
        "            intersection = (preds * masks).sum()\n",
        "            union = preds.sum() + masks.sum()\n",
        "            dice = (2 * intersection / (union + 1e-8)).item() * 100\n",
        "\n",
        "        print(f\"[Overfit Epoch {epoch}] Loss: {total_loss:.4f} | Dice: {dice:.2f}%\")\n",
        "\n",
        "        if dice > best_dice:\n",
        "            best_dice = dice\n",
        "            torch.save(model.state_dict(), f\"best_overfit_model.pth\")\n",
        "\n",
        "        # Visualise every 5 epochs\n",
        "        if epoch % 5 == 0 or epoch == 1 or epoch == 50:\n",
        "            visualize_prediction(model, dataset, device, epoch, fold=0, phase=\"debug\")\n"
      ],
      "metadata": {
        "id": "m1_YOzZfxfJW"
      },
      "execution_count": null,
      "outputs": []
    },
    {
      "cell_type": "code",
      "source": [
        "debug_overfit_one_sample()"
      ],
      "metadata": {
        "id": "ERKZXUSdxfMl",
        "colab": {
          "base_uri": "https://localhost:8080/"
        },
        "outputId": "2c072307-3117-44ca-964c-c4dc15058762"
      },
      "execution_count": null,
      "outputs": [
        {
          "output_type": "stream",
          "name": "stdout",
          "text": [
            "[Overfit Epoch 1] Loss: 3.6941 | Dice: 24.89%\n",
            "[Fold 0 | Epoch 1] Average predicted vessel pixels (from visualised samples): 15913.33\n",
            "[Overfit Epoch 2] Loss: 3.5459 | Dice: 25.08%\n",
            "[Overfit Epoch 3] Loss: 3.0788 | Dice: 26.68%\n",
            "[Overfit Epoch 4] Loss: 2.9476 | Dice: 28.56%\n",
            "[Overfit Epoch 5] Loss: 3.0439 | Dice: 32.07%\n",
            "[Fold 0 | Epoch 5] Average predicted vessel pixels (from visualised samples): 11536.33\n",
            "[Overfit Epoch 6] Loss: 2.6034 | Dice: 37.15%\n",
            "[Overfit Epoch 7] Loss: 2.2229 | Dice: 50.17%\n",
            "[Overfit Epoch 8] Loss: 2.1328 | Dice: 34.12%\n",
            "[Overfit Epoch 9] Loss: 1.7085 | Dice: 35.01%\n",
            "[Overfit Epoch 10] Loss: 1.5460 | Dice: 33.41%\n",
            "[Fold 0 | Epoch 10] Average predicted vessel pixels (from visualised samples): 10913.00\n",
            "[Overfit Epoch 11] Loss: 1.4823 | Dice: 36.52%\n",
            "[Overfit Epoch 12] Loss: 1.5829 | Dice: 38.63%\n",
            "[Overfit Epoch 13] Loss: 1.4029 | Dice: 34.62%\n",
            "[Overfit Epoch 14] Loss: 1.3690 | Dice: 44.71%\n",
            "[Overfit Epoch 15] Loss: 1.3305 | Dice: 40.18%\n",
            "[Fold 0 | Epoch 15] Average predicted vessel pixels (from visualised samples): 9233.67\n",
            "[Overfit Epoch 16] Loss: 1.3798 | Dice: 45.25%\n",
            "[Overfit Epoch 17] Loss: 1.3493 | Dice: 62.80%\n",
            "[Overfit Epoch 18] Loss: 1.3434 | Dice: 49.84%\n",
            "[Overfit Epoch 19] Loss: 1.2549 | Dice: 63.94%\n",
            "[Overfit Epoch 20] Loss: 1.2498 | Dice: 72.99%\n",
            "[Fold 0 | Epoch 20] Average predicted vessel pixels (from visualised samples): 6109.00\n",
            "[Overfit Epoch 21] Loss: 1.2453 | Dice: 68.91%\n",
            "[Overfit Epoch 22] Loss: 1.1744 | Dice: 82.22%\n",
            "[Overfit Epoch 23] Loss: 1.3068 | Dice: 73.55%\n",
            "[Overfit Epoch 24] Loss: 1.2240 | Dice: 77.88%\n",
            "[Overfit Epoch 25] Loss: 1.2123 | Dice: 79.10%\n",
            "[Fold 0 | Epoch 25] Average predicted vessel pixels (from visualised samples): 4103.00\n",
            "[Overfit Epoch 26] Loss: 1.1876 | Dice: 86.93%\n",
            "[Overfit Epoch 27] Loss: 1.2769 | Dice: 88.33%\n",
            "[Overfit Epoch 28] Loss: 1.2040 | Dice: 83.13%\n",
            "[Overfit Epoch 29] Loss: 1.3544 | Dice: 88.51%\n",
            "[Overfit Epoch 30] Loss: 1.2404 | Dice: 82.89%\n",
            "[Fold 0 | Epoch 30] Average predicted vessel pixels (from visualised samples): 3657.67\n",
            "[Overfit Epoch 31] Loss: 1.2543 | Dice: 85.90%\n",
            "[Overfit Epoch 32] Loss: 1.1346 | Dice: 89.78%\n",
            "[Overfit Epoch 33] Loss: 1.1644 | Dice: 89.79%\n",
            "[Overfit Epoch 34] Loss: 1.1539 | Dice: 84.23%\n",
            "[Overfit Epoch 35] Loss: 1.1191 | Dice: 86.25%\n",
            "[Fold 0 | Epoch 35] Average predicted vessel pixels (from visualised samples): 3346.00\n",
            "[Overfit Epoch 36] Loss: 1.2489 | Dice: 89.47%\n",
            "[Overfit Epoch 37] Loss: 1.1679 | Dice: 87.13%\n",
            "[Overfit Epoch 38] Loss: 1.1114 | Dice: 78.29%\n",
            "[Overfit Epoch 39] Loss: 1.1033 | Dice: 85.41%\n",
            "[Overfit Epoch 40] Loss: 1.2370 | Dice: 89.71%\n",
            "[Fold 0 | Epoch 40] Average predicted vessel pixels (from visualised samples): 2364.33\n",
            "[Overfit Epoch 41] Loss: 1.1448 | Dice: 88.78%\n",
            "[Overfit Epoch 42] Loss: 1.1469 | Dice: 83.19%\n",
            "[Overfit Epoch 43] Loss: 1.1361 | Dice: 87.41%\n",
            "[Overfit Epoch 44] Loss: 1.1271 | Dice: 89.67%\n",
            "[Overfit Epoch 45] Loss: 1.1319 | Dice: 81.15%\n",
            "[Fold 0 | Epoch 45] Average predicted vessel pixels (from visualised samples): 2959.67\n",
            "[Overfit Epoch 46] Loss: 1.1263 | Dice: 86.12%\n",
            "[Overfit Epoch 47] Loss: 1.1237 | Dice: 50.90%\n",
            "[Overfit Epoch 48] Loss: 1.1194 | Dice: 87.02%\n",
            "[Overfit Epoch 49] Loss: 1.1247 | Dice: 76.71%\n",
            "[Overfit Epoch 50] Loss: 1.1607 | Dice: 80.39%\n",
            "[Fold 0 | Epoch 50] Average predicted vessel pixels (from visualised samples): 2096.33\n"
          ]
        }
      ]
    },
    {
      "cell_type": "code",
      "source": [
        "import pandas as pd\n",
        "import matplotlib.pyplot as plt\n",
        "\n",
        "plt.style.use(\"seaborn-v0_8-whitegrid\")\n",
        "plt.rcParams.update({\n",
        "    \"axes.titlesize\": 16,\n",
        "    \"axes.labelsize\": 14,\n",
        "    \"legend.fontsize\": 12,\n",
        "    \"xtick.labelsize\": 12,\n",
        "    \"ytick.labelsize\": 12,\n",
        "    \"figure.dpi\": 100,\n",
        "    \"axes.spines.top\": False,\n",
        "    \"axes.spines.right\": False,\n",
        "    \"lines.linewidth\": 2\n",
        "})\n",
        "\n",
        "# Loads CSVs from Drive\n",
        "folds = {\n",
        "    \"Fold 1\": pd.read_csv(\"/content/drive/MyDrive/fold_1_metrics.csv\"),\n",
        "    \"Fold 2\": pd.read_csv(\"/content/drive/MyDrive/fold_2_metrics.csv\"),\n",
        "    \"Fold 3\": pd.read_csv(\"/content/drive/MyDrive/fold_3_metrics.csv\")\n",
        "}\n",
        "\n",
        "colors = plt.get_cmap(\"tab10\")\n",
        "\n",
        "# --- Plot 1: Training & Validation Loss ---\n",
        "plt.figure(figsize=(10, 6))\n",
        "for i, (name, df) in enumerate(folds.items()):\n",
        "    plt.plot(df[\"epoch\"], df[\"train_loss\"], label=f\"{name} - Train\", linestyle=\"--\", color=colors(i))\n",
        "    plt.plot(df[\"epoch\"], df[\"val_loss\"], label=f\"{name} - Val\", linestyle=\"-\", color=colors(i))\n",
        "plt.title(\"Training and Validation Loss\")\n",
        "plt.xlabel(\"Epoch\")\n",
        "plt.ylabel(\"Loss\")\n",
        "plt.legend(frameon=False)\n",
        "plt.tight_layout()\n",
        "plt.savefig(\"/content/drive/MyDrive/loss_plot.png\", dpi=300)  # Save to Drive\n",
        "plt.show()\n",
        "\n",
        "# --- Plot 2: Validation Dice Score ---\n",
        "plt.figure(figsize=(10, 6))\n",
        "for i, (name, df) in enumerate(folds.items()):\n",
        "    plt.plot(df[\"epoch\"], df[\"val_dice\"], label=name, color=colors(i))\n",
        "plt.title(\"Validation Dice Score\")\n",
        "plt.xlabel(\"Epoch\")\n",
        "plt.ylabel(\"Dice Score (%)\")\n",
        "plt.legend(frameon=False)\n",
        "plt.tight_layout()\n",
        "plt.savefig(\"/content/drive/MyDrive/dice_plot.png\", dpi=300)  # Save to Drive\n",
        "plt.show()\n"
      ],
      "metadata": {
        "id": "Y0CjAdZdxfPm",
        "colab": {
          "base_uri": "https://localhost:8080/",
          "height": 1000
        },
        "outputId": "e64b2fd1-c906-4230-a25d-96f6939a7bc3"
      },
      "execution_count": null,
      "outputs": [
        {
          "output_type": "display_data",
          "data": {
            "text/plain": [
              "<Figure size 1000x600 with 1 Axes>"
            ],
            "image/png": "[encoded data removed]"
          },
          "metadata": {}
        },
        {
          "output_type": "display_data",
          "data": {
            "text/plain": [
              "<Figure size 1000x600 with 1 Axes>"
            ],
            "image/png": "[encoded data removed]"
          },
          "metadata": {}
        }
      ]
    },
    {
      "cell_type": "code",
      "source": [],
      "metadata": {
        "id": "a7c-msC7xfbT"
      },
      "execution_count": null,
      "outputs": []
    },
    {
      "cell_type": "code",
      "source": [],
      "metadata": {
        "id": "pcHHhsdsxfeC"
      },
      "execution_count": null,
      "outputs": []
    },
    {
      "cell_type": "code",
      "source": [],
      "metadata": {
        "id": "pGOl4Q4pxfgq"
      },
      "execution_count": null,
      "outputs": []
    },
    {
      "cell_type": "code",
      "source": [],
      "metadata": {
        "id": "4KEXbkl1xfjn"
      },
      "execution_count": null,
      "outputs": []
    },
    {
      "cell_type": "code",
      "source": [],
      "metadata": {
        "id": "-hgPUTtmxfmZ"
      },
      "execution_count": null,
      "outputs": []
    },
    {
      "cell_type": "code",
      "source": [],
      "metadata": {
        "id": "NGaXL8V_xfp6"
      },
      "execution_count": null,
      "outputs": []
    },
    {
      "cell_type": "code",
      "source": [],
      "metadata": {
        "id": "rkB2Fv71xfsv"
      },
      "execution_count": null,
      "outputs": []
    },
    {
      "cell_type": "code",
      "source": [],
      "metadata": {
        "id": "B1g6bFK3xfvi"
      },
      "execution_count": null,
      "outputs": []
    },
    {
      "cell_type": "code",
      "source": [],
      "metadata": {
        "id": "Bw4VSPQyxfyt"
      },
      "execution_count": null,
      "outputs": []
    },
    {
      "cell_type": "code",
      "source": [],
      "metadata": {
        "id": "_hEaszdrxf1u"
      },
      "execution_count": null,
      "outputs": []
    },
    {
      "cell_type": "code",
      "source": [],
      "metadata": {
        "id": "eWC2Z4MNxf4r"
      },
      "execution_count": null,
      "outputs": []
    },
    {
      "cell_type": "code",
      "source": [],
      "metadata": {
        "id": "Kx7qhlrLxf7e"
      },
      "execution_count": null,
      "outputs": []
    },
    {
      "cell_type": "code",
      "source": [],
      "metadata": {
        "id": "Euhd3MBNxf-f"
      },
      "execution_count": null,
      "outputs": []
    },
    {
      "cell_type": "code",
      "source": [],
      "metadata": {
        "id": "h36vvhIdxgBd"
      },
      "execution_count": null,
      "outputs": []
    },
    {
      "cell_type": "code",
      "source": [],
      "metadata": {
        "id": "5SM0-h2LxgEc"
      },
      "execution_count": null,
      "outputs": []
    },
    {
      "cell_type": "code",
      "source": [],
      "metadata": {
        "id": "BVA0DQtzxgHU"
      },
      "execution_count": null,
      "outputs": []
    },
    {
      "cell_type": "code",
      "source": [],
      "metadata": {
        "id": "n8NK0KXZxgKQ"
      },
      "execution_count": null,
      "outputs": []
    },
    {
      "cell_type": "code",
      "source": [],
      "metadata": {
        "id": "h5BxnCJVxgNT"
      },
      "execution_count": null,
      "outputs": []
    },
    {
      "cell_type": "code",
      "source": [],
      "metadata": {
        "id": "wbiYSkCux9Kx"
      },
      "execution_count": null,
      "outputs": []
    }
  ]
}